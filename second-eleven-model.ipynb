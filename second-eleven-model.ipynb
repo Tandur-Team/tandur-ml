{
 "cells": [
  {
   "cell_type": "code",
   "execution_count": 1,
   "id": "3ba31c1a",
   "metadata": {
    "_cell_guid": "b1076dfc-b9ad-4769-8c92-a6c4dae69d19",
    "_uuid": "8f2839f25d086af736a60e9eeb907d3b93b6e0e5",
    "execution": {
     "iopub.execute_input": "2022-05-27T12:12:41.297592Z",
     "iopub.status.busy": "2022-05-27T12:12:41.296378Z",
     "iopub.status.idle": "2022-05-27T12:12:48.243281Z",
     "shell.execute_reply": "2022-05-27T12:12:48.242358Z"
    },
    "papermill": {
     "duration": 6.955101,
     "end_time": "2022-05-27T12:12:48.245986",
     "exception": false,
     "start_time": "2022-05-27T12:12:41.290885",
     "status": "completed"
    },
    "tags": []
   },
   "outputs": [],
   "source": [
    "import numpy as np\n",
    "import pandas as pd\n",
    "import matplotlib.pyplot as plt\n",
    "import tensorflow as tf\n",
    "import seaborn as sns\n",
    "sns.set_style()"
   ]
  },
  {
   "cell_type": "code",
   "execution_count": 2,
   "id": "f10921e8",
   "metadata": {
    "execution": {
     "iopub.execute_input": "2022-05-27T12:12:48.253960Z",
     "iopub.status.busy": "2022-05-27T12:12:48.253333Z",
     "iopub.status.idle": "2022-05-27T12:12:48.303051Z",
     "shell.execute_reply": "2022-05-27T12:12:48.302026Z"
    },
    "papermill": {
     "duration": 0.056309,
     "end_time": "2022-05-27T12:12:48.305589",
     "exception": false,
     "start_time": "2022-05-27T12:12:48.249280",
     "status": "completed"
    },
    "tags": []
   },
   "outputs": [
    {
     "data": {
      "text/html": [
       "<div>\n",
       "<style scoped>\n",
       "    .dataframe tbody tr th:only-of-type {\n",
       "        vertical-align: middle;\n",
       "    }\n",
       "\n",
       "    .dataframe tbody tr th {\n",
       "        vertical-align: top;\n",
       "    }\n",
       "\n",
       "    .dataframe thead th {\n",
       "        text-align: right;\n",
       "    }\n",
       "</style>\n",
       "<table border=\"1\" class=\"dataframe\">\n",
       "  <thead>\n",
       "    <tr style=\"text-align: right;\">\n",
       "      <th></th>\n",
       "      <th>temperature</th>\n",
       "      <th>humidity</th>\n",
       "      <th>rainfall</th>\n",
       "      <th>label</th>\n",
       "    </tr>\n",
       "  </thead>\n",
       "  <tbody>\n",
       "    <tr>\n",
       "      <th>0</th>\n",
       "      <td>20.879744</td>\n",
       "      <td>82.002744</td>\n",
       "      <td>202.935536</td>\n",
       "      <td>rice</td>\n",
       "    </tr>\n",
       "    <tr>\n",
       "      <th>1</th>\n",
       "      <td>21.770462</td>\n",
       "      <td>80.319644</td>\n",
       "      <td>226.655537</td>\n",
       "      <td>rice</td>\n",
       "    </tr>\n",
       "    <tr>\n",
       "      <th>2</th>\n",
       "      <td>23.004459</td>\n",
       "      <td>82.320763</td>\n",
       "      <td>263.964248</td>\n",
       "      <td>rice</td>\n",
       "    </tr>\n",
       "    <tr>\n",
       "      <th>3</th>\n",
       "      <td>26.491096</td>\n",
       "      <td>80.158363</td>\n",
       "      <td>242.864034</td>\n",
       "      <td>rice</td>\n",
       "    </tr>\n",
       "    <tr>\n",
       "      <th>4</th>\n",
       "      <td>20.130175</td>\n",
       "      <td>81.604873</td>\n",
       "      <td>262.717340</td>\n",
       "      <td>rice</td>\n",
       "    </tr>\n",
       "  </tbody>\n",
       "</table>\n",
       "</div>"
      ],
      "text/plain": [
       "   temperature   humidity    rainfall label\n",
       "0    20.879744  82.002744  202.935536  rice\n",
       "1    21.770462  80.319644  226.655537  rice\n",
       "2    23.004459  82.320763  263.964248  rice\n",
       "3    26.491096  80.158363  242.864034  rice\n",
       "4    20.130175  81.604873  262.717340  rice"
      ]
     },
     "execution_count": 2,
     "metadata": {},
     "output_type": "execute_result"
    }
   ],
   "source": [
    "data = pd.read_csv('../input/crop-recommendation-dataset/Crop_recommendation.csv')\n",
    "data.drop(['N', 'P', 'K', 'ph'], axis=1, inplace=True)\n",
    "data.head()"
   ]
  },
  {
   "cell_type": "code",
   "execution_count": 3,
   "id": "a7446d7a",
   "metadata": {
    "execution": {
     "iopub.execute_input": "2022-05-27T12:12:48.313681Z",
     "iopub.status.busy": "2022-05-27T12:12:48.313299Z",
     "iopub.status.idle": "2022-05-27T12:12:48.323786Z",
     "shell.execute_reply": "2022-05-27T12:12:48.322916Z"
    },
    "papermill": {
     "duration": 0.01749,
     "end_time": "2022-05-27T12:12:48.326124",
     "exception": false,
     "start_time": "2022-05-27T12:12:48.308634",
     "status": "completed"
    },
    "tags": []
   },
   "outputs": [
    {
     "data": {
      "text/plain": [
       "array(['rice', 'maize', 'chickpea', 'kidneybeans', 'pigeonpeas',\n",
       "       'mothbeans', 'mungbean', 'blackgram', 'lentil', 'pomegranate',\n",
       "       'banana', 'mango', 'grapes', 'watermelon', 'muskmelon', 'apple',\n",
       "       'orange', 'papaya', 'coconut', 'cotton', 'jute', 'coffee'],\n",
       "      dtype=object)"
      ]
     },
     "execution_count": 3,
     "metadata": {},
     "output_type": "execute_result"
    }
   ],
   "source": [
    "data['label'].unique()"
   ]
  },
  {
   "cell_type": "markdown",
   "id": "b590de26",
   "metadata": {
    "papermill": {
     "duration": 0.002879,
     "end_time": "2022-05-27T12:12:48.332272",
     "exception": false,
     "start_time": "2022-05-27T12:12:48.329393",
     "status": "completed"
    },
    "tags": []
   },
   "source": [
    "## Data Preprocessing"
   ]
  },
  {
   "cell_type": "code",
   "execution_count": 4,
   "id": "f86651ac",
   "metadata": {
    "execution": {
     "iopub.execute_input": "2022-05-27T12:12:48.342863Z",
     "iopub.status.busy": "2022-05-27T12:12:48.342462Z",
     "iopub.status.idle": "2022-05-27T12:12:48.350670Z",
     "shell.execute_reply": "2022-05-27T12:12:48.349675Z"
    },
    "papermill": {
     "duration": 0.017256,
     "end_time": "2022-05-27T12:12:48.352866",
     "exception": false,
     "start_time": "2022-05-27T12:12:48.335610",
     "status": "completed"
    },
    "tags": []
   },
   "outputs": [],
   "source": [
    "def convert_label(row, label):\n",
    "    if row['label'] == label:\n",
    "        row['label'] = 1\n",
    "    else:\n",
    "        row['label'] = 0\n",
    "    return row\n",
    "\n",
    "def take_200(data, label):\n",
    "    \n",
    "    label = label\n",
    "    # Data for particular label\n",
    "    specific_data = data[data['label'] == label]\n",
    "    \n",
    "    n = len(specific_data)\n",
    "    \n",
    "    # Data for beside particular label\n",
    "    beside_data = data[data['label'] != label].sample(n)\n",
    "    \n",
    "    # Combine specific_data and beside_data\n",
    "    combined_data = pd.concat([specific_data, beside_data])\n",
    "    \n",
    "    # Apply combined_data to convert_label function\n",
    "    new_data = combined_data.apply(convert_label, label=label, axis=1)\n",
    "    \n",
    "    # Reset index and shuffle\n",
    "    return new_data.sample(frac=1).reset_index(drop=True)"
   ]
  },
  {
   "cell_type": "code",
   "execution_count": 5,
   "id": "3abba4fc",
   "metadata": {
    "execution": {
     "iopub.execute_input": "2022-05-27T12:12:48.361347Z",
     "iopub.status.busy": "2022-05-27T12:12:48.360449Z",
     "iopub.status.idle": "2022-05-27T12:12:48.398308Z",
     "shell.execute_reply": "2022-05-27T12:12:48.397365Z"
    },
    "papermill": {
     "duration": 0.044422,
     "end_time": "2022-05-27T12:12:48.400485",
     "exception": false,
     "start_time": "2022-05-27T12:12:48.356063",
     "status": "completed"
    },
    "tags": []
   },
   "outputs": [
    {
     "data": {
      "text/html": [
       "<div>\n",
       "<style scoped>\n",
       "    .dataframe tbody tr th:only-of-type {\n",
       "        vertical-align: middle;\n",
       "    }\n",
       "\n",
       "    .dataframe tbody tr th {\n",
       "        vertical-align: top;\n",
       "    }\n",
       "\n",
       "    .dataframe thead th {\n",
       "        text-align: right;\n",
       "    }\n",
       "</style>\n",
       "<table border=\"1\" class=\"dataframe\">\n",
       "  <thead>\n",
       "    <tr style=\"text-align: right;\">\n",
       "      <th></th>\n",
       "      <th>temperature</th>\n",
       "      <th>humidity</th>\n",
       "      <th>rainfall</th>\n",
       "      <th>label</th>\n",
       "    </tr>\n",
       "  </thead>\n",
       "  <tbody>\n",
       "    <tr>\n",
       "      <th>0</th>\n",
       "      <td>26.185524</td>\n",
       "      <td>96.966379</td>\n",
       "      <td>135.418622</td>\n",
       "      <td>0</td>\n",
       "    </tr>\n",
       "    <tr>\n",
       "      <th>1</th>\n",
       "      <td>23.641248</td>\n",
       "      <td>80.285979</td>\n",
       "      <td>263.110330</td>\n",
       "      <td>1</td>\n",
       "    </tr>\n",
       "    <tr>\n",
       "      <th>2</th>\n",
       "      <td>25.157455</td>\n",
       "      <td>83.117135</td>\n",
       "      <td>231.384316</td>\n",
       "      <td>1</td>\n",
       "    </tr>\n",
       "    <tr>\n",
       "      <th>3</th>\n",
       "      <td>24.488084</td>\n",
       "      <td>90.836872</td>\n",
       "      <td>103.196934</td>\n",
       "      <td>0</td>\n",
       "    </tr>\n",
       "    <tr>\n",
       "      <th>4</th>\n",
       "      <td>26.088679</td>\n",
       "      <td>80.379799</td>\n",
       "      <td>182.904350</td>\n",
       "      <td>1</td>\n",
       "    </tr>\n",
       "    <tr>\n",
       "      <th>...</th>\n",
       "      <td>...</td>\n",
       "      <td>...</td>\n",
       "      <td>...</td>\n",
       "      <td>...</td>\n",
       "    </tr>\n",
       "    <tr>\n",
       "      <th>195</th>\n",
       "      <td>20.879744</td>\n",
       "      <td>82.002744</td>\n",
       "      <td>202.935536</td>\n",
       "      <td>1</td>\n",
       "    </tr>\n",
       "    <tr>\n",
       "      <th>196</th>\n",
       "      <td>25.850370</td>\n",
       "      <td>81.955805</td>\n",
       "      <td>119.085617</td>\n",
       "      <td>0</td>\n",
       "    </tr>\n",
       "    <tr>\n",
       "      <th>197</th>\n",
       "      <td>26.730724</td>\n",
       "      <td>81.785968</td>\n",
       "      <td>280.404439</td>\n",
       "      <td>1</td>\n",
       "    </tr>\n",
       "    <tr>\n",
       "      <th>198</th>\n",
       "      <td>27.698193</td>\n",
       "      <td>51.415932</td>\n",
       "      <td>100.772070</td>\n",
       "      <td>0</td>\n",
       "    </tr>\n",
       "    <tr>\n",
       "      <th>199</th>\n",
       "      <td>22.750888</td>\n",
       "      <td>90.694892</td>\n",
       "      <td>110.431786</td>\n",
       "      <td>0</td>\n",
       "    </tr>\n",
       "  </tbody>\n",
       "</table>\n",
       "<p>200 rows × 4 columns</p>\n",
       "</div>"
      ],
      "text/plain": [
       "     temperature   humidity    rainfall  label\n",
       "0      26.185524  96.966379  135.418622      0\n",
       "1      23.641248  80.285979  263.110330      1\n",
       "2      25.157455  83.117135  231.384316      1\n",
       "3      24.488084  90.836872  103.196934      0\n",
       "4      26.088679  80.379799  182.904350      1\n",
       "..           ...        ...         ...    ...\n",
       "195    20.879744  82.002744  202.935536      1\n",
       "196    25.850370  81.955805  119.085617      0\n",
       "197    26.730724  81.785968  280.404439      1\n",
       "198    27.698193  51.415932  100.772070      0\n",
       "199    22.750888  90.694892  110.431786      0\n",
       "\n",
       "[200 rows x 4 columns]"
      ]
     },
     "execution_count": 5,
     "metadata": {},
     "output_type": "execute_result"
    }
   ],
   "source": [
    "take_200(data, 'rice')"
   ]
  },
  {
   "cell_type": "code",
   "execution_count": null,
   "id": "e5af9fb2",
   "metadata": {
    "papermill": {
     "duration": 0.003127,
     "end_time": "2022-05-27T12:12:48.407044",
     "exception": false,
     "start_time": "2022-05-27T12:12:48.403917",
     "status": "completed"
    },
    "tags": []
   },
   "outputs": [],
   "source": []
  }
 ],
 "metadata": {
  "kernelspec": {
   "display_name": "Python 3",
   "language": "python",
   "name": "python3"
  },
  "language_info": {
   "codemirror_mode": {
    "name": "ipython",
    "version": 3
   },
   "file_extension": ".py",
   "mimetype": "text/x-python",
   "name": "python",
   "nbconvert_exporter": "python",
   "pygments_lexer": "ipython3",
   "version": "3.7.12"
  },
  "papermill": {
   "default_parameters": {},
   "duration": 20.819934,
   "end_time": "2022-05-27T12:12:51.362064",
   "environment_variables": {},
   "exception": null,
   "input_path": "__notebook__.ipynb",
   "output_path": "__notebook__.ipynb",
   "parameters": {},
   "start_time": "2022-05-27T12:12:30.542130",
   "version": "2.3.4"
  }
 },
 "nbformat": 4,
 "nbformat_minor": 5
}

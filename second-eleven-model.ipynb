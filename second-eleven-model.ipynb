{
 "cells": [
  {
   "cell_type": "code",
   "execution_count": 1,
   "id": "6f714eb4",
   "metadata": {
    "_cell_guid": "b1076dfc-b9ad-4769-8c92-a6c4dae69d19",
    "_uuid": "8f2839f25d086af736a60e9eeb907d3b93b6e0e5",
    "execution": {
     "iopub.execute_input": "2022-05-31T02:57:14.711463Z",
     "iopub.status.busy": "2022-05-31T02:57:14.710907Z",
     "iopub.status.idle": "2022-05-31T02:57:21.842299Z",
     "shell.execute_reply": "2022-05-31T02:57:21.841401Z"
    },
    "papermill": {
     "duration": 7.143971,
     "end_time": "2022-05-31T02:57:21.844858",
     "exception": false,
     "start_time": "2022-05-31T02:57:14.700887",
     "status": "completed"
    },
    "tags": []
   },
   "outputs": [],
   "source": [
    "import numpy as np\n",
    "import pandas as pd\n",
    "import matplotlib.pyplot as plt\n",
    "import tensorflow as tf\n",
    "import seaborn as sns\n",
    "from keras.wrappers.scikit_learn import KerasClassifier\n",
    "from sklearn.model_selection import GridSearchCV\n",
    "from tensorflow.keras.models import Sequential\n",
    "from tensorflow.keras.layers import Dense, Activation, Flatten, Dropout\n",
    "from sklearn.preprocessing import StandardScaler\n",
    "sns.set_style()"
   ]
  },
  {
   "cell_type": "code",
   "execution_count": 2,
   "id": "573ac07e",
   "metadata": {
    "execution": {
     "iopub.execute_input": "2022-05-31T02:57:21.855667Z",
     "iopub.status.busy": "2022-05-31T02:57:21.855036Z",
     "iopub.status.idle": "2022-05-31T02:57:21.894420Z",
     "shell.execute_reply": "2022-05-31T02:57:21.893490Z"
    },
    "papermill": {
     "duration": 0.046878,
     "end_time": "2022-05-31T02:57:21.896456",
     "exception": false,
     "start_time": "2022-05-31T02:57:21.849578",
     "status": "completed"
    },
    "tags": []
   },
   "outputs": [
    {
     "data": {
      "text/html": [
       "<div>\n",
       "<style scoped>\n",
       "    .dataframe tbody tr th:only-of-type {\n",
       "        vertical-align: middle;\n",
       "    }\n",
       "\n",
       "    .dataframe tbody tr th {\n",
       "        vertical-align: top;\n",
       "    }\n",
       "\n",
       "    .dataframe thead th {\n",
       "        text-align: right;\n",
       "    }\n",
       "</style>\n",
       "<table border=\"1\" class=\"dataframe\">\n",
       "  <thead>\n",
       "    <tr style=\"text-align: right;\">\n",
       "      <th></th>\n",
       "      <th>temperature</th>\n",
       "      <th>humidity</th>\n",
       "      <th>rainfall</th>\n",
       "      <th>label</th>\n",
       "    </tr>\n",
       "  </thead>\n",
       "  <tbody>\n",
       "    <tr>\n",
       "      <th>0</th>\n",
       "      <td>20.879744</td>\n",
       "      <td>82.002744</td>\n",
       "      <td>202.935536</td>\n",
       "      <td>rice</td>\n",
       "    </tr>\n",
       "    <tr>\n",
       "      <th>1</th>\n",
       "      <td>21.770462</td>\n",
       "      <td>80.319644</td>\n",
       "      <td>226.655537</td>\n",
       "      <td>rice</td>\n",
       "    </tr>\n",
       "    <tr>\n",
       "      <th>2</th>\n",
       "      <td>23.004459</td>\n",
       "      <td>82.320763</td>\n",
       "      <td>263.964248</td>\n",
       "      <td>rice</td>\n",
       "    </tr>\n",
       "    <tr>\n",
       "      <th>3</th>\n",
       "      <td>26.491096</td>\n",
       "      <td>80.158363</td>\n",
       "      <td>242.864034</td>\n",
       "      <td>rice</td>\n",
       "    </tr>\n",
       "    <tr>\n",
       "      <th>4</th>\n",
       "      <td>20.130175</td>\n",
       "      <td>81.604873</td>\n",
       "      <td>262.717340</td>\n",
       "      <td>rice</td>\n",
       "    </tr>\n",
       "  </tbody>\n",
       "</table>\n",
       "</div>"
      ],
      "text/plain": [
       "   temperature   humidity    rainfall label\n",
       "0    20.879744  82.002744  202.935536  rice\n",
       "1    21.770462  80.319644  226.655537  rice\n",
       "2    23.004459  82.320763  263.964248  rice\n",
       "3    26.491096  80.158363  242.864034  rice\n",
       "4    20.130175  81.604873  262.717340  rice"
      ]
     },
     "execution_count": 2,
     "metadata": {},
     "output_type": "execute_result"
    }
   ],
   "source": [
    "data = pd.read_csv('../input/crop-recommendation-dataset/Crop_recommendation.csv')\n",
    "data.drop(['N', 'P', 'K', 'ph'], axis=1, inplace=True)\n",
    "data.head()"
   ]
  },
  {
   "cell_type": "code",
   "execution_count": 3,
   "id": "6cc9d1de",
   "metadata": {
    "execution": {
     "iopub.execute_input": "2022-05-31T02:57:21.907339Z",
     "iopub.status.busy": "2022-05-31T02:57:21.906713Z",
     "iopub.status.idle": "2022-05-31T02:57:21.915269Z",
     "shell.execute_reply": "2022-05-31T02:57:21.914330Z"
    },
    "papermill": {
     "duration": 0.015881,
     "end_time": "2022-05-31T02:57:21.917086",
     "exception": false,
     "start_time": "2022-05-31T02:57:21.901205",
     "status": "completed"
    },
    "tags": []
   },
   "outputs": [
    {
     "data": {
      "text/plain": [
       "array(['banana', 'mango', 'grapes', 'watermelon', 'muskmelon', 'apple',\n",
       "       'orange', 'papaya', 'coconut', 'cotton', 'jute', 'coffee'],\n",
       "      dtype=object)"
      ]
     },
     "execution_count": 3,
     "metadata": {},
     "output_type": "execute_result"
    }
   ],
   "source": [
    "data['label'].unique()[10:] # Second Eleven Label"
   ]
  },
  {
   "cell_type": "markdown",
   "id": "28f493f2",
   "metadata": {
    "papermill": {
     "duration": 0.004301,
     "end_time": "2022-05-31T02:57:21.926165",
     "exception": false,
     "start_time": "2022-05-31T02:57:21.921864",
     "status": "completed"
    },
    "tags": []
   },
   "source": [
    "## Data Preprocessing"
   ]
  },
  {
   "cell_type": "code",
   "execution_count": 4,
   "id": "f391a4f1",
   "metadata": {
    "execution": {
     "iopub.execute_input": "2022-05-31T02:57:21.937427Z",
     "iopub.status.busy": "2022-05-31T02:57:21.936559Z",
     "iopub.status.idle": "2022-05-31T02:57:21.943041Z",
     "shell.execute_reply": "2022-05-31T02:57:21.942286Z"
    },
    "papermill": {
     "duration": 0.013988,
     "end_time": "2022-05-31T02:57:21.944813",
     "exception": false,
     "start_time": "2022-05-31T02:57:21.930825",
     "status": "completed"
    },
    "tags": []
   },
   "outputs": [],
   "source": [
    "def convert_label(row, label):\n",
    "    if row['label'] == label:\n",
    "        row['label'] = 1\n",
    "    else:\n",
    "        row['label'] = 0\n",
    "    return row\n",
    "\n",
    "def take_200(data, label):\n",
    "    \n",
    "    # Data for particular label\n",
    "    specific_data = data[data['label'] == label]\n",
    "    \n",
    "    n = len(specific_data)\n",
    "    \n",
    "    # Data for beside particular label\n",
    "    beside_data = data[data['label'] != label].sample(n)\n",
    "    \n",
    "    # Combine specific_data and beside_data\n",
    "    combined_data = pd.concat([specific_data, beside_data])\n",
    "    \n",
    "    # Apply combined_data to convert_label function\n",
    "    new_data = combined_data.apply(convert_label, label=label, axis=1)\n",
    "    \n",
    "    # Reset index and shuffle\n",
    "    return new_data.sample(frac=1).reset_index(drop=True)"
   ]
  },
  {
   "cell_type": "code",
   "execution_count": 5,
   "id": "68aa56f5",
   "metadata": {
    "execution": {
     "iopub.execute_input": "2022-05-31T02:57:21.955564Z",
     "iopub.status.busy": "2022-05-31T02:57:21.955217Z",
     "iopub.status.idle": "2022-05-31T02:57:21.985590Z",
     "shell.execute_reply": "2022-05-31T02:57:21.984376Z"
    },
    "papermill": {
     "duration": 0.038295,
     "end_time": "2022-05-31T02:57:21.987842",
     "exception": false,
     "start_time": "2022-05-31T02:57:21.949547",
     "status": "completed"
    },
    "tags": []
   },
   "outputs": [
    {
     "name": "stdout",
     "output_type": "stream",
     "text": [
      "First 5 observations of data: \n",
      "\n"
     ]
    },
    {
     "data": {
      "text/html": [
       "<div>\n",
       "<style scoped>\n",
       "    .dataframe tbody tr th:only-of-type {\n",
       "        vertical-align: middle;\n",
       "    }\n",
       "\n",
       "    .dataframe tbody tr th {\n",
       "        vertical-align: top;\n",
       "    }\n",
       "\n",
       "    .dataframe thead th {\n",
       "        text-align: right;\n",
       "    }\n",
       "</style>\n",
       "<table border=\"1\" class=\"dataframe\">\n",
       "  <thead>\n",
       "    <tr style=\"text-align: right;\">\n",
       "      <th></th>\n",
       "      <th>temperature</th>\n",
       "      <th>humidity</th>\n",
       "      <th>rainfall</th>\n",
       "      <th>label</th>\n",
       "    </tr>\n",
       "  </thead>\n",
       "  <tbody>\n",
       "    <tr>\n",
       "      <th>0</th>\n",
       "      <td>21.865252</td>\n",
       "      <td>80.192301</td>\n",
       "      <td>224.555017</td>\n",
       "      <td>1</td>\n",
       "    </tr>\n",
       "    <tr>\n",
       "      <th>1</th>\n",
       "      <td>28.541724</td>\n",
       "      <td>64.202015</td>\n",
       "      <td>69.688623</td>\n",
       "      <td>0</td>\n",
       "    </tr>\n",
       "    <tr>\n",
       "      <th>2</th>\n",
       "      <td>27.582589</td>\n",
       "      <td>48.569162</td>\n",
       "      <td>95.844564</td>\n",
       "      <td>0</td>\n",
       "    </tr>\n",
       "    <tr>\n",
       "      <th>3</th>\n",
       "      <td>20.045414</td>\n",
       "      <td>80.347756</td>\n",
       "      <td>208.581016</td>\n",
       "      <td>1</td>\n",
       "    </tr>\n",
       "    <tr>\n",
       "      <th>4</th>\n",
       "      <td>28.876676</td>\n",
       "      <td>62.490121</td>\n",
       "      <td>182.268818</td>\n",
       "      <td>0</td>\n",
       "    </tr>\n",
       "  </tbody>\n",
       "</table>\n",
       "</div>"
      ],
      "text/plain": [
       "   temperature   humidity    rainfall  label\n",
       "0    21.865252  80.192301  224.555017      1\n",
       "1    28.541724  64.202015   69.688623      0\n",
       "2    27.582589  48.569162   95.844564      0\n",
       "3    20.045414  80.347756  208.581016      1\n",
       "4    28.876676  62.490121  182.268818      0"
      ]
     },
     "execution_count": 5,
     "metadata": {},
     "output_type": "execute_result"
    }
   ],
   "source": [
    "print('First 5 observations of data: \\n')\n",
    "take_200(data, 'rice').head(5)"
   ]
  },
  {
   "cell_type": "markdown",
   "id": "b979b0ec",
   "metadata": {
    "papermill": {
     "duration": 0.004731,
     "end_time": "2022-05-31T02:57:21.998056",
     "exception": false,
     "start_time": "2022-05-31T02:57:21.993325",
     "status": "completed"
    },
    "tags": []
   },
   "source": [
    "## Model Building (1)"
   ]
  },
  {
   "cell_type": "markdown",
   "id": "512740fc",
   "metadata": {
    "papermill": {
     "duration": 0.004752,
     "end_time": "2022-05-31T02:57:22.007862",
     "exception": false,
     "start_time": "2022-05-31T02:57:22.003110",
     "status": "completed"
    },
    "tags": []
   },
   "source": [
    "### Hyperparameter Tuning"
   ]
  },
  {
   "cell_type": "code",
   "execution_count": 6,
   "id": "64786ae9",
   "metadata": {
    "execution": {
     "iopub.execute_input": "2022-05-31T02:57:22.019754Z",
     "iopub.status.busy": "2022-05-31T02:57:22.018877Z",
     "iopub.status.idle": "2022-05-31T02:57:22.022954Z",
     "shell.execute_reply": "2022-05-31T02:57:22.022312Z"
    },
    "papermill": {
     "duration": 0.011714,
     "end_time": "2022-05-31T02:57:22.024536",
     "exception": false,
     "start_time": "2022-05-31T02:57:22.012822",
     "status": "completed"
    },
    "tags": []
   },
   "outputs": [],
   "source": [
    "from keras.wrappers.scikit_learn import KerasClassifier\n",
    "from sklearn.model_selection import GridSearchCV"
   ]
  },
  {
   "cell_type": "code",
   "execution_count": 7,
   "id": "6867a232",
   "metadata": {
    "execution": {
     "iopub.execute_input": "2022-05-31T02:57:22.036562Z",
     "iopub.status.busy": "2022-05-31T02:57:22.035707Z",
     "iopub.status.idle": "2022-05-31T02:57:22.042241Z",
     "shell.execute_reply": "2022-05-31T02:57:22.041597Z"
    },
    "papermill": {
     "duration": 0.014259,
     "end_time": "2022-05-31T02:57:22.043964",
     "exception": false,
     "start_time": "2022-05-31T02:57:22.029705",
     "status": "completed"
    },
    "tags": []
   },
   "outputs": [],
   "source": [
    "def create_model(layers, activation):\n",
    "    model = Sequential()\n",
    "    for i, neurons in enumerate(layers):\n",
    "        if i==0:\n",
    "            model.add(Dense(neurons, input_dim=X_train.shape[1]))\n",
    "            model.add(Activation(activation))\n",
    "        else:\n",
    "            model.add(Dense(neurons))\n",
    "            model.add(Activation(activation))\n",
    "    model.add(Dense(1, activation='softmax'))\n",
    "    \n",
    "    model.compile(optimizer=tf.keras.optimizers.Adam(),\n",
    "                 loss='binary_crossentropy',\n",
    "                 metrics=['accuracy'])\n",
    "    return model\n",
    "\n",
    "model = KerasClassifier(build_fn=create_model, verbose=0)"
   ]
  },
  {
   "cell_type": "code",
   "execution_count": 8,
   "id": "daa56286",
   "metadata": {
    "execution": {
     "iopub.execute_input": "2022-05-31T02:57:22.055751Z",
     "iopub.status.busy": "2022-05-31T02:57:22.055180Z",
     "iopub.status.idle": "2022-05-31T02:57:22.060382Z",
     "shell.execute_reply": "2022-05-31T02:57:22.059684Z"
    },
    "papermill": {
     "duration": 0.013294,
     "end_time": "2022-05-31T02:57:22.062338",
     "exception": false,
     "start_time": "2022-05-31T02:57:22.049044",
     "status": "completed"
    },
    "tags": []
   },
   "outputs": [],
   "source": [
    "layers = [[64, 64], [64, 128], [16, 32, 64], [64, 64, 64]]\n",
    "activations = ['relu', 'tanh']\n",
    "param_grid = dict(layers=layers, activation=activations, batch_size=[16, 32], epochs=[100])\n",
    "grid = GridSearchCV(estimator=model, param_grid=param_grid)"
   ]
  },
  {
   "cell_type": "code",
   "execution_count": 9,
   "id": "03b63eb8",
   "metadata": {
    "execution": {
     "iopub.execute_input": "2022-05-31T02:57:22.074388Z",
     "iopub.status.busy": "2022-05-31T02:57:22.073809Z",
     "iopub.status.idle": "2022-05-31T02:57:22.101957Z",
     "shell.execute_reply": "2022-05-31T02:57:22.101213Z"
    },
    "papermill": {
     "duration": 0.036423,
     "end_time": "2022-05-31T02:57:22.103756",
     "exception": false,
     "start_time": "2022-05-31T02:57:22.067333",
     "status": "completed"
    },
    "tags": []
   },
   "outputs": [
    {
     "data": {
      "text/html": [
       "<div>\n",
       "<style scoped>\n",
       "    .dataframe tbody tr th:only-of-type {\n",
       "        vertical-align: middle;\n",
       "    }\n",
       "\n",
       "    .dataframe tbody tr th {\n",
       "        vertical-align: top;\n",
       "    }\n",
       "\n",
       "    .dataframe thead th {\n",
       "        text-align: right;\n",
       "    }\n",
       "</style>\n",
       "<table border=\"1\" class=\"dataframe\">\n",
       "  <thead>\n",
       "    <tr style=\"text-align: right;\">\n",
       "      <th></th>\n",
       "      <th>temperature</th>\n",
       "      <th>humidity</th>\n",
       "      <th>rainfall</th>\n",
       "      <th>label</th>\n",
       "    </tr>\n",
       "  </thead>\n",
       "  <tbody>\n",
       "    <tr>\n",
       "      <th>0</th>\n",
       "      <td>32.863166</td>\n",
       "      <td>91.461887</td>\n",
       "      <td>47.271547</td>\n",
       "      <td>1</td>\n",
       "    </tr>\n",
       "    <tr>\n",
       "      <th>1</th>\n",
       "      <td>31.012749</td>\n",
       "      <td>62.403925</td>\n",
       "      <td>63.771924</td>\n",
       "      <td>0</td>\n",
       "    </tr>\n",
       "    <tr>\n",
       "      <th>2</th>\n",
       "      <td>29.066315</td>\n",
       "      <td>83.686920</td>\n",
       "      <td>43.951837</td>\n",
       "      <td>0</td>\n",
       "    </tr>\n",
       "    <tr>\n",
       "      <th>3</th>\n",
       "      <td>43.080227</td>\n",
       "      <td>93.903057</td>\n",
       "      <td>211.852906</td>\n",
       "      <td>1</td>\n",
       "    </tr>\n",
       "    <tr>\n",
       "      <th>4</th>\n",
       "      <td>32.797668</td>\n",
       "      <td>68.779941</td>\n",
       "      <td>64.114111</td>\n",
       "      <td>0</td>\n",
       "    </tr>\n",
       "  </tbody>\n",
       "</table>\n",
       "</div>"
      ],
      "text/plain": [
       "   temperature   humidity    rainfall  label\n",
       "0    32.863166  91.461887   47.271547      1\n",
       "1    31.012749  62.403925   63.771924      0\n",
       "2    29.066315  83.686920   43.951837      0\n",
       "3    43.080227  93.903057  211.852906      1\n",
       "4    32.797668  68.779941   64.114111      0"
      ]
     },
     "execution_count": 9,
     "metadata": {},
     "output_type": "execute_result"
    }
   ],
   "source": [
    "# For instance, we choose 100 data containing papaya\n",
    "papaya_data = take_200(data, 'papaya')\n",
    "papaya_data.head()"
   ]
  },
  {
   "cell_type": "code",
   "execution_count": 10,
   "id": "98ca4760",
   "metadata": {
    "execution": {
     "iopub.execute_input": "2022-05-31T02:57:22.115548Z",
     "iopub.status.busy": "2022-05-31T02:57:22.114968Z",
     "iopub.status.idle": "2022-05-31T02:57:22.119343Z",
     "shell.execute_reply": "2022-05-31T02:57:22.118442Z"
    },
    "papermill": {
     "duration": 0.012417,
     "end_time": "2022-05-31T02:57:22.121241",
     "exception": false,
     "start_time": "2022-05-31T02:57:22.108824",
     "status": "completed"
    },
    "tags": []
   },
   "outputs": [],
   "source": [
    "# Define variables\n",
    "X = papaya_data\n",
    "y = X.pop('label')"
   ]
  },
  {
   "cell_type": "code",
   "execution_count": 11,
   "id": "6073f024",
   "metadata": {
    "execution": {
     "iopub.execute_input": "2022-05-31T02:57:22.132962Z",
     "iopub.status.busy": "2022-05-31T02:57:22.132542Z",
     "iopub.status.idle": "2022-05-31T02:57:22.136685Z",
     "shell.execute_reply": "2022-05-31T02:57:22.135766Z"
    },
    "papermill": {
     "duration": 0.011982,
     "end_time": "2022-05-31T02:57:22.138452",
     "exception": false,
     "start_time": "2022-05-31T02:57:22.126470",
     "status": "completed"
    },
    "tags": []
   },
   "outputs": [],
   "source": [
    "sc = StandardScaler()"
   ]
  },
  {
   "cell_type": "code",
   "execution_count": 12,
   "id": "ec9c4293",
   "metadata": {
    "execution": {
     "iopub.execute_input": "2022-05-31T02:57:22.150672Z",
     "iopub.status.busy": "2022-05-31T02:57:22.149816Z",
     "iopub.status.idle": "2022-05-31T02:59:41.145433Z",
     "shell.execute_reply": "2022-05-31T02:59:41.144737Z"
    },
    "papermill": {
     "duration": 139.007484,
     "end_time": "2022-05-31T02:59:41.151045",
     "exception": false,
     "start_time": "2022-05-31T02:57:22.143561",
     "status": "completed"
    },
    "tags": []
   },
   "outputs": [
    {
     "name": "stderr",
     "output_type": "stream",
     "text": [
      "2022-05-31 02:57:22.192493: I tensorflow/core/common_runtime/process_util.cc:146] Creating new thread pool with default inter op setting: 2. Tune using inter_op_parallelism_threads for best performance.\n",
      "2022-05-31 02:57:22.355370: I tensorflow/compiler/mlir/mlir_graph_optimization_pass.cc:185] None of the MLIR Optimization Passes are enabled (registered 2)\n"
     ]
    },
    {
     "data": {
      "text/plain": [
       "[0.51875,\n",
       " {'activation': 'relu', 'batch_size': 16, 'epochs': 100, 'layers': [64, 64]}]"
      ]
     },
     "execution_count": 12,
     "metadata": {},
     "output_type": "execute_result"
    }
   ],
   "source": [
    "from sklearn.model_selection import train_test_split\n",
    "\n",
    "# Split Training and Testing Dataset\n",
    "X_train, X_test, y_train, y_test = train_test_split(X, y, test_size=0.2, \n",
    "                                                    random_state=42)\n",
    "\n",
    "X_train = sc.fit_transform(X_train)\n",
    "X_test = sc.transform(X_test)\n",
    "\n",
    "grid_result = grid.fit(X_train, y_train)\n",
    "\n",
    "[grid_result.best_score_, grid_result.best_params_]"
   ]
  },
  {
   "cell_type": "code",
   "execution_count": 13,
   "id": "b5e59ff4",
   "metadata": {
    "execution": {
     "iopub.execute_input": "2022-05-31T02:59:41.163482Z",
     "iopub.status.busy": "2022-05-31T02:59:41.162588Z",
     "iopub.status.idle": "2022-05-31T02:59:47.797599Z",
     "shell.execute_reply": "2022-05-31T02:59:47.796568Z"
    },
    "papermill": {
     "duration": 6.643583,
     "end_time": "2022-05-31T02:59:47.799888",
     "exception": false,
     "start_time": "2022-05-31T02:59:41.156305",
     "status": "completed"
    },
    "tags": []
   },
   "outputs": [
    {
     "name": "stdout",
     "output_type": "stream",
     "text": [
      "Epoch 1/100\n",
      "5/5 [==============================] - 1s 49ms/step - loss: 0.6926 - accuracy: 0.4313 - val_loss: 0.6758 - val_accuracy: 0.6250\n",
      "Epoch 2/100\n",
      "5/5 [==============================] - 0s 10ms/step - loss: 0.6925 - accuracy: 0.4313 - val_loss: 0.6758 - val_accuracy: 0.6250\n",
      "Epoch 3/100\n",
      "5/5 [==============================] - 0s 11ms/step - loss: 0.6924 - accuracy: 0.4313 - val_loss: 0.6757 - val_accuracy: 0.6250\n",
      "Epoch 4/100\n",
      "5/5 [==============================] - 0s 11ms/step - loss: 0.6923 - accuracy: 0.4313 - val_loss: 0.6756 - val_accuracy: 0.6250\n",
      "Epoch 5/100\n",
      "5/5 [==============================] - 0s 10ms/step - loss: 0.6922 - accuracy: 0.4375 - val_loss: 0.6754 - val_accuracy: 0.6250\n",
      "Epoch 6/100\n",
      "5/5 [==============================] - 0s 10ms/step - loss: 0.6921 - accuracy: 0.4375 - val_loss: 0.6753 - val_accuracy: 0.6250\n",
      "Epoch 7/100\n",
      "5/5 [==============================] - 0s 10ms/step - loss: 0.6920 - accuracy: 0.4375 - val_loss: 0.6752 - val_accuracy: 0.6250\n",
      "Epoch 8/100\n",
      "5/5 [==============================] - 0s 11ms/step - loss: 0.6918 - accuracy: 0.4375 - val_loss: 0.6750 - val_accuracy: 0.6250\n",
      "Epoch 9/100\n",
      "5/5 [==============================] - 0s 11ms/step - loss: 0.6916 - accuracy: 0.4375 - val_loss: 0.6748 - val_accuracy: 0.6250\n",
      "Epoch 10/100\n",
      "5/5 [==============================] - 0s 11ms/step - loss: 0.6915 - accuracy: 0.4375 - val_loss: 0.6746 - val_accuracy: 0.6250\n",
      "Epoch 11/100\n",
      "5/5 [==============================] - 0s 10ms/step - loss: 0.6912 - accuracy: 0.4375 - val_loss: 0.6744 - val_accuracy: 0.6250\n",
      "Epoch 12/100\n",
      "5/5 [==============================] - 0s 11ms/step - loss: 0.6910 - accuracy: 0.4375 - val_loss: 0.6741 - val_accuracy: 0.6250\n",
      "Epoch 13/100\n",
      "5/5 [==============================] - 0s 11ms/step - loss: 0.6907 - accuracy: 0.4375 - val_loss: 0.6738 - val_accuracy: 0.6250\n",
      "Epoch 14/100\n",
      "5/5 [==============================] - 0s 12ms/step - loss: 0.6904 - accuracy: 0.4375 - val_loss: 0.6735 - val_accuracy: 0.6250\n",
      "Epoch 15/100\n",
      "5/5 [==============================] - 0s 11ms/step - loss: 0.6901 - accuracy: 0.4375 - val_loss: 0.6731 - val_accuracy: 0.6250\n",
      "Epoch 16/100\n",
      "5/5 [==============================] - 0s 11ms/step - loss: 0.6897 - accuracy: 0.4375 - val_loss: 0.6727 - val_accuracy: 0.6250\n",
      "Epoch 17/100\n",
      "5/5 [==============================] - 0s 11ms/step - loss: 0.6893 - accuracy: 0.4375 - val_loss: 0.6723 - val_accuracy: 0.6250\n",
      "Epoch 18/100\n",
      "5/5 [==============================] - 0s 11ms/step - loss: 0.6888 - accuracy: 0.4437 - val_loss: 0.6717 - val_accuracy: 0.6250\n",
      "Epoch 19/100\n",
      "5/5 [==============================] - 0s 11ms/step - loss: 0.6883 - accuracy: 0.4437 - val_loss: 0.6712 - val_accuracy: 0.6250\n",
      "Epoch 20/100\n",
      "5/5 [==============================] - 0s 11ms/step - loss: 0.6877 - accuracy: 0.4500 - val_loss: 0.6705 - val_accuracy: 0.6250\n",
      "Epoch 21/100\n",
      "5/5 [==============================] - 0s 10ms/step - loss: 0.6870 - accuracy: 0.4563 - val_loss: 0.6698 - val_accuracy: 0.6250\n",
      "Epoch 22/100\n",
      "5/5 [==============================] - 0s 11ms/step - loss: 0.6863 - accuracy: 0.4563 - val_loss: 0.6690 - val_accuracy: 0.6250\n",
      "Epoch 23/100\n",
      "5/5 [==============================] - 0s 11ms/step - loss: 0.6854 - accuracy: 0.4688 - val_loss: 0.6681 - val_accuracy: 0.6250\n",
      "Epoch 24/100\n",
      "5/5 [==============================] - 0s 12ms/step - loss: 0.6845 - accuracy: 0.4812 - val_loss: 0.6671 - val_accuracy: 0.6250\n",
      "Epoch 25/100\n",
      "5/5 [==============================] - 0s 11ms/step - loss: 0.6834 - accuracy: 0.4812 - val_loss: 0.6659 - val_accuracy: 0.6250\n",
      "Epoch 26/100\n",
      "5/5 [==============================] - 0s 12ms/step - loss: 0.6822 - accuracy: 0.4938 - val_loss: 0.6647 - val_accuracy: 0.6250\n",
      "Epoch 27/100\n",
      "5/5 [==============================] - 0s 11ms/step - loss: 0.6809 - accuracy: 0.4938 - val_loss: 0.6633 - val_accuracy: 0.6750\n",
      "Epoch 28/100\n",
      "5/5 [==============================] - 0s 12ms/step - loss: 0.6795 - accuracy: 0.5063 - val_loss: 0.6617 - val_accuracy: 0.6750\n",
      "Epoch 29/100\n",
      "5/5 [==============================] - 0s 11ms/step - loss: 0.6779 - accuracy: 0.5188 - val_loss: 0.6600 - val_accuracy: 0.6750\n",
      "Epoch 30/100\n",
      "5/5 [==============================] - 0s 12ms/step - loss: 0.6760 - accuracy: 0.5125 - val_loss: 0.6581 - val_accuracy: 0.7000\n",
      "Epoch 31/100\n",
      "5/5 [==============================] - 0s 11ms/step - loss: 0.6740 - accuracy: 0.5125 - val_loss: 0.6559 - val_accuracy: 0.7000\n",
      "Epoch 32/100\n",
      "5/5 [==============================] - 0s 12ms/step - loss: 0.6719 - accuracy: 0.5437 - val_loss: 0.6535 - val_accuracy: 0.7500\n",
      "Epoch 33/100\n",
      "5/5 [==============================] - 0s 11ms/step - loss: 0.6693 - accuracy: 0.5938 - val_loss: 0.6508 - val_accuracy: 0.7500\n",
      "Epoch 34/100\n",
      "5/5 [==============================] - 0s 11ms/step - loss: 0.6665 - accuracy: 0.6313 - val_loss: 0.6479 - val_accuracy: 0.8250\n",
      "Epoch 35/100\n",
      "5/5 [==============================] - 0s 13ms/step - loss: 0.6634 - accuracy: 0.6500 - val_loss: 0.6447 - val_accuracy: 0.8250\n",
      "Epoch 36/100\n",
      "5/5 [==============================] - 0s 24ms/step - loss: 0.6601 - accuracy: 0.6875 - val_loss: 0.6410 - val_accuracy: 0.8000\n",
      "Epoch 37/100\n",
      "5/5 [==============================] - 0s 17ms/step - loss: 0.6562 - accuracy: 0.7250 - val_loss: 0.6369 - val_accuracy: 0.8000\n",
      "Epoch 38/100\n",
      "5/5 [==============================] - 0s 20ms/step - loss: 0.6519 - accuracy: 0.7437 - val_loss: 0.6326 - val_accuracy: 0.8000\n",
      "Epoch 39/100\n",
      "5/5 [==============================] - 0s 20ms/step - loss: 0.6475 - accuracy: 0.7750 - val_loss: 0.6276 - val_accuracy: 0.8000\n",
      "Epoch 40/100\n",
      "5/5 [==============================] - 0s 26ms/step - loss: 0.6424 - accuracy: 0.8062 - val_loss: 0.6221 - val_accuracy: 0.8000\n",
      "Epoch 41/100\n",
      "5/5 [==============================] - 0s 20ms/step - loss: 0.6365 - accuracy: 0.8313 - val_loss: 0.6160 - val_accuracy: 0.8000\n",
      "Epoch 42/100\n",
      "5/5 [==============================] - 0s 26ms/step - loss: 0.6301 - accuracy: 0.8375 - val_loss: 0.6095 - val_accuracy: 0.8000\n",
      "Epoch 43/100\n",
      "5/5 [==============================] - 0s 24ms/step - loss: 0.6233 - accuracy: 0.8438 - val_loss: 0.6022 - val_accuracy: 0.8500\n",
      "Epoch 44/100\n",
      "5/5 [==============================] - 0s 17ms/step - loss: 0.6153 - accuracy: 0.8375 - val_loss: 0.5942 - val_accuracy: 0.8500\n",
      "Epoch 45/100\n",
      "5/5 [==============================] - 0s 12ms/step - loss: 0.6071 - accuracy: 0.8500 - val_loss: 0.5852 - val_accuracy: 0.8500\n",
      "Epoch 46/100\n",
      "5/5 [==============================] - 0s 11ms/step - loss: 0.5974 - accuracy: 0.8562 - val_loss: 0.5755 - val_accuracy: 0.8500\n",
      "Epoch 47/100\n",
      "5/5 [==============================] - 0s 12ms/step - loss: 0.5870 - accuracy: 0.8687 - val_loss: 0.5647 - val_accuracy: 0.8500\n",
      "Epoch 48/100\n",
      "5/5 [==============================] - 0s 12ms/step - loss: 0.5754 - accuracy: 0.8813 - val_loss: 0.5531 - val_accuracy: 0.8750\n",
      "Epoch 49/100\n",
      "5/5 [==============================] - 0s 11ms/step - loss: 0.5632 - accuracy: 0.8875 - val_loss: 0.5401 - val_accuracy: 0.9000\n",
      "Epoch 50/100\n",
      "5/5 [==============================] - 0s 12ms/step - loss: 0.5495 - accuracy: 0.8750 - val_loss: 0.5258 - val_accuracy: 0.8750\n",
      "Epoch 51/100\n",
      "5/5 [==============================] - 0s 12ms/step - loss: 0.5344 - accuracy: 0.8750 - val_loss: 0.5102 - val_accuracy: 0.9000\n",
      "Epoch 52/100\n",
      "5/5 [==============================] - 0s 12ms/step - loss: 0.5176 - accuracy: 0.8813 - val_loss: 0.4935 - val_accuracy: 0.9000\n",
      "Epoch 53/100\n",
      "5/5 [==============================] - 0s 12ms/step - loss: 0.4997 - accuracy: 0.8938 - val_loss: 0.4750 - val_accuracy: 0.8750\n",
      "Epoch 54/100\n",
      "5/5 [==============================] - 0s 11ms/step - loss: 0.4798 - accuracy: 0.8938 - val_loss: 0.4548 - val_accuracy: 0.8750\n",
      "Epoch 55/100\n",
      "5/5 [==============================] - 0s 12ms/step - loss: 0.4571 - accuracy: 0.9000 - val_loss: 0.4325 - val_accuracy: 0.9000\n",
      "Epoch 56/100\n",
      "5/5 [==============================] - 0s 12ms/step - loss: 0.4325 - accuracy: 0.9062 - val_loss: 0.4081 - val_accuracy: 0.9000\n",
      "Epoch 57/100\n",
      "5/5 [==============================] - 0s 12ms/step - loss: 0.4058 - accuracy: 0.9000 - val_loss: 0.3820 - val_accuracy: 0.9000\n",
      "Epoch 58/100\n",
      "5/5 [==============================] - 0s 12ms/step - loss: 0.3774 - accuracy: 0.9000 - val_loss: 0.3559 - val_accuracy: 0.9000\n",
      "Epoch 59/100\n",
      "5/5 [==============================] - 0s 12ms/step - loss: 0.3476 - accuracy: 0.8938 - val_loss: 0.3304 - val_accuracy: 0.9000\n",
      "Epoch 60/100\n",
      "5/5 [==============================] - 0s 11ms/step - loss: 0.3193 - accuracy: 0.9062 - val_loss: 0.3062 - val_accuracy: 0.9000\n",
      "Epoch 61/100\n",
      "5/5 [==============================] - 0s 12ms/step - loss: 0.2936 - accuracy: 0.9125 - val_loss: 0.2843 - val_accuracy: 0.9000\n",
      "Epoch 62/100\n",
      "5/5 [==============================] - 0s 11ms/step - loss: 0.2720 - accuracy: 0.9062 - val_loss: 0.2660 - val_accuracy: 0.8750\n",
      "Epoch 63/100\n",
      "5/5 [==============================] - 0s 11ms/step - loss: 0.2513 - accuracy: 0.9062 - val_loss: 0.2511 - val_accuracy: 0.8750\n",
      "Epoch 64/100\n",
      "5/5 [==============================] - 0s 11ms/step - loss: 0.2371 - accuracy: 0.9250 - val_loss: 0.2392 - val_accuracy: 0.8750\n",
      "Epoch 65/100\n",
      "5/5 [==============================] - 0s 11ms/step - loss: 0.2236 - accuracy: 0.9187 - val_loss: 0.2318 - val_accuracy: 0.9000\n",
      "Epoch 66/100\n",
      "5/5 [==============================] - 0s 12ms/step - loss: 0.2151 - accuracy: 0.9187 - val_loss: 0.2253 - val_accuracy: 0.9000\n",
      "Epoch 67/100\n",
      "5/5 [==============================] - 0s 12ms/step - loss: 0.2090 - accuracy: 0.9187 - val_loss: 0.2208 - val_accuracy: 0.9000\n",
      "Epoch 68/100\n",
      "5/5 [==============================] - 0s 11ms/step - loss: 0.2016 - accuracy: 0.9187 - val_loss: 0.2159 - val_accuracy: 0.9000\n",
      "Epoch 69/100\n",
      "5/5 [==============================] - 0s 12ms/step - loss: 0.1958 - accuracy: 0.9187 - val_loss: 0.2119 - val_accuracy: 0.9000\n",
      "Epoch 70/100\n",
      "5/5 [==============================] - 0s 11ms/step - loss: 0.1915 - accuracy: 0.9125 - val_loss: 0.2070 - val_accuracy: 0.9000\n",
      "Epoch 71/100\n",
      "5/5 [==============================] - 0s 11ms/step - loss: 0.1872 - accuracy: 0.9187 - val_loss: 0.2045 - val_accuracy: 0.9000\n",
      "Epoch 72/100\n",
      "5/5 [==============================] - 0s 12ms/step - loss: 0.1835 - accuracy: 0.9250 - val_loss: 0.2009 - val_accuracy: 0.9250\n",
      "Epoch 73/100\n",
      "5/5 [==============================] - 0s 11ms/step - loss: 0.1809 - accuracy: 0.9187 - val_loss: 0.1984 - val_accuracy: 0.9250\n",
      "Epoch 74/100\n",
      "5/5 [==============================] - 0s 11ms/step - loss: 0.1766 - accuracy: 0.9312 - val_loss: 0.1960 - val_accuracy: 0.9250\n",
      "Epoch 75/100\n",
      "5/5 [==============================] - 0s 11ms/step - loss: 0.1795 - accuracy: 0.9375 - val_loss: 0.1915 - val_accuracy: 0.9250\n",
      "Epoch 76/100\n",
      "5/5 [==============================] - 0s 10ms/step - loss: 0.1768 - accuracy: 0.9438 - val_loss: 0.1841 - val_accuracy: 0.9500\n",
      "Epoch 77/100\n",
      "5/5 [==============================] - 0s 11ms/step - loss: 0.1681 - accuracy: 0.9375 - val_loss: 0.1844 - val_accuracy: 0.9250\n",
      "Epoch 78/100\n",
      "5/5 [==============================] - 0s 11ms/step - loss: 0.1649 - accuracy: 0.9375 - val_loss: 0.1794 - val_accuracy: 0.9250\n",
      "Epoch 79/100\n",
      "5/5 [==============================] - 0s 11ms/step - loss: 0.1632 - accuracy: 0.9312 - val_loss: 0.1711 - val_accuracy: 0.9500\n",
      "Epoch 80/100\n",
      "5/5 [==============================] - 0s 11ms/step - loss: 0.1557 - accuracy: 0.9375 - val_loss: 0.1786 - val_accuracy: 0.9250\n",
      "Epoch 81/100\n",
      "5/5 [==============================] - 0s 11ms/step - loss: 0.1688 - accuracy: 0.9312 - val_loss: 0.1687 - val_accuracy: 0.9500\n",
      "Epoch 82/100\n",
      "5/5 [==============================] - 0s 11ms/step - loss: 0.1570 - accuracy: 0.9250 - val_loss: 0.1714 - val_accuracy: 0.9250\n",
      "Epoch 83/100\n",
      "5/5 [==============================] - 0s 11ms/step - loss: 0.1620 - accuracy: 0.9375 - val_loss: 0.1867 - val_accuracy: 0.9250\n",
      "Epoch 84/100\n",
      "5/5 [==============================] - 0s 11ms/step - loss: 0.1750 - accuracy: 0.9312 - val_loss: 0.1647 - val_accuracy: 0.9250\n",
      "Epoch 85/100\n",
      "5/5 [==============================] - 0s 11ms/step - loss: 0.1944 - accuracy: 0.9187 - val_loss: 0.1535 - val_accuracy: 0.9500\n",
      "Epoch 86/100\n",
      "5/5 [==============================] - 0s 12ms/step - loss: 0.1439 - accuracy: 0.9438 - val_loss: 0.1772 - val_accuracy: 0.9250\n",
      "Epoch 87/100\n",
      "5/5 [==============================] - 0s 12ms/step - loss: 0.1490 - accuracy: 0.9438 - val_loss: 0.1541 - val_accuracy: 0.9250\n",
      "Epoch 88/100\n",
      "5/5 [==============================] - 0s 12ms/step - loss: 0.1512 - accuracy: 0.9438 - val_loss: 0.1521 - val_accuracy: 0.9250\n",
      "Epoch 89/100\n",
      "5/5 [==============================] - 0s 12ms/step - loss: 0.1338 - accuracy: 0.9500 - val_loss: 0.2068 - val_accuracy: 0.9000\n",
      "Epoch 90/100\n",
      "5/5 [==============================] - 0s 12ms/step - loss: 0.1699 - accuracy: 0.9250 - val_loss: 0.1899 - val_accuracy: 0.9000\n",
      "Epoch 91/100\n",
      "5/5 [==============================] - 0s 12ms/step - loss: 0.2016 - accuracy: 0.9187 - val_loss: 0.1468 - val_accuracy: 0.9750\n",
      "Epoch 92/100\n",
      "5/5 [==============================] - 0s 12ms/step - loss: 0.1377 - accuracy: 0.9438 - val_loss: 0.1643 - val_accuracy: 0.9250\n",
      "Epoch 93/100\n",
      "5/5 [==============================] - 0s 12ms/step - loss: 0.1352 - accuracy: 0.9375 - val_loss: 0.1479 - val_accuracy: 0.9500\n",
      "Epoch 94/100\n",
      "5/5 [==============================] - 0s 11ms/step - loss: 0.1651 - accuracy: 0.9312 - val_loss: 0.1775 - val_accuracy: 0.9250\n",
      "Epoch 95/100\n",
      "5/5 [==============================] - 0s 11ms/step - loss: 0.1862 - accuracy: 0.9187 - val_loss: 0.2283 - val_accuracy: 0.9000\n",
      "Epoch 96/100\n",
      "5/5 [==============================] - 0s 11ms/step - loss: 0.3816 - accuracy: 0.8750 - val_loss: 0.2414 - val_accuracy: 0.9000\n",
      "Epoch 97/100\n",
      "5/5 [==============================] - 0s 12ms/step - loss: 0.2844 - accuracy: 0.8875 - val_loss: 0.2412 - val_accuracy: 0.9250\n",
      "Epoch 98/100\n",
      "5/5 [==============================] - 0s 12ms/step - loss: 0.3408 - accuracy: 0.8562 - val_loss: 0.3112 - val_accuracy: 0.9250\n",
      "Epoch 99/100\n",
      "5/5 [==============================] - 0s 11ms/step - loss: 0.2069 - accuracy: 0.9250 - val_loss: 0.2266 - val_accuracy: 0.9000\n",
      "Epoch 100/100\n",
      "5/5 [==============================] - 0s 11ms/step - loss: 0.1869 - accuracy: 0.9062 - val_loss: 0.1636 - val_accuracy: 0.9250\n"
     ]
    }
   ],
   "source": [
    "# Build a model structure FOR TUNING\n",
    "model_tune = tf.keras.models.Sequential([\n",
    "    tf.keras.layers.Dense(64, input_shape=[3], activation='relu'),\n",
    "    tf.keras.layers.Dense(64, activation='relu'),\n",
    "    #tf.keras.layers.Dense(64, activation='relu'),\n",
    "    tf.keras.layers.Dense(1, activation='sigmoid')\n",
    "])\n",
    "\n",
    "# Set the learning rate scheduler\n",
    "lr_schedule = tf.keras.callbacks.LearningRateScheduler(\n",
    "    lambda epoch: 1e-6 * 10**(epoch / 20))\n",
    "\n",
    "model_tune.compile(optimizer=tf.keras.optimizers.Adam(), \n",
    "             loss='binary_crossentropy',\n",
    "             metrics=['accuracy'])\n",
    "\n",
    "history = model_tune.fit(X_train, y_train, validation_data=(X_test, y_test), epochs=100, callbacks=[lr_schedule])"
   ]
  },
  {
   "cell_type": "code",
   "execution_count": 14,
   "id": "40dcbce6",
   "metadata": {
    "execution": {
     "iopub.execute_input": "2022-05-31T02:59:47.833734Z",
     "iopub.status.busy": "2022-05-31T02:59:47.833344Z",
     "iopub.status.idle": "2022-05-31T02:59:48.405786Z",
     "shell.execute_reply": "2022-05-31T02:59:48.405068Z"
    },
    "papermill": {
     "duration": 0.591222,
     "end_time": "2022-05-31T02:59:48.407504",
     "exception": false,
     "start_time": "2022-05-31T02:59:47.816282",
     "status": "completed"
    },
    "tags": []
   },
   "outputs": [
    {
     "data": {
      "text/plain": [
       "(1e-07, 0.001, 0.0, 10.0)"
      ]
     },
     "execution_count": 14,
     "metadata": {},
     "output_type": "execute_result"
    },
    {
     "data": {
      "image/png": "[encoded data removed]",
      "text/plain": [
       "<Figure size 720x432 with 1 Axes>"
      ]
     },
     "metadata": {
      "needs_background": "light"
     },
     "output_type": "display_data"
    }
   ],
   "source": [
    "# Define the learning rate array\n",
    "lrs = 1e-8 * (10 ** (np.arange(100) / 20))\n",
    "\n",
    "# Set the figure size\n",
    "plt.figure(figsize=(10, 6))\n",
    "\n",
    "# Set the grid\n",
    "plt.grid(True)\n",
    "\n",
    "# Plot the loss in log scale\n",
    "plt.semilogx(lrs, history.history[\"loss\"])\n",
    "\n",
    "# Increase the tickmarks size\n",
    "plt.tick_params('both', length=10, width=1, which='both')\n",
    "\n",
    "# Set the plot boundaries\n",
    "plt.axis([1e-7, 1e-3, 0, 10])"
   ]
  },
  {
   "cell_type": "code",
   "execution_count": 15,
   "id": "7477f03e",
   "metadata": {
    "execution": {
     "iopub.execute_input": "2022-05-31T02:59:48.441588Z",
     "iopub.status.busy": "2022-05-31T02:59:48.441021Z",
     "iopub.status.idle": "2022-05-31T02:59:54.188111Z",
     "shell.execute_reply": "2022-05-31T02:59:54.187076Z"
    },
    "papermill": {
     "duration": 5.767068,
     "end_time": "2022-05-31T02:59:54.190658",
     "exception": false,
     "start_time": "2022-05-31T02:59:48.423590",
     "status": "completed"
    },
    "tags": []
   },
   "outputs": [
    {
     "name": "stdout",
     "output_type": "stream",
     "text": [
      "Epoch 1/100\n",
      "5/5 [==============================] - 1s 49ms/step - loss: 0.7151 - accuracy: 0.4812 - val_loss: 0.6709 - val_accuracy: 0.5750\n",
      "Epoch 2/100\n",
      "5/5 [==============================] - 0s 11ms/step - loss: 0.7150 - accuracy: 0.4812 - val_loss: 0.6708 - val_accuracy: 0.5750\n",
      "Epoch 3/100\n",
      "5/5 [==============================] - 0s 11ms/step - loss: 0.7149 - accuracy: 0.4812 - val_loss: 0.6707 - val_accuracy: 0.5750\n",
      "Epoch 4/100\n",
      "5/5 [==============================] - 0s 11ms/step - loss: 0.7148 - accuracy: 0.4812 - val_loss: 0.6706 - val_accuracy: 0.5750\n",
      "Epoch 5/100\n",
      "5/5 [==============================] - 0s 11ms/step - loss: 0.7146 - accuracy: 0.4812 - val_loss: 0.6705 - val_accuracy: 0.5750\n",
      "Epoch 6/100\n",
      "5/5 [==============================] - 0s 11ms/step - loss: 0.7145 - accuracy: 0.4812 - val_loss: 0.6704 - val_accuracy: 0.5750\n",
      "Epoch 7/100\n",
      "5/5 [==============================] - 0s 14ms/step - loss: 0.7143 - accuracy: 0.4812 - val_loss: 0.6703 - val_accuracy: 0.5750\n",
      "Epoch 8/100\n",
      "5/5 [==============================] - 0s 15ms/step - loss: 0.7142 - accuracy: 0.4812 - val_loss: 0.6701 - val_accuracy: 0.5750\n",
      "Epoch 9/100\n",
      "5/5 [==============================] - 0s 12ms/step - loss: 0.7140 - accuracy: 0.4812 - val_loss: 0.6699 - val_accuracy: 0.5750\n",
      "Epoch 10/100\n",
      "5/5 [==============================] - 0s 12ms/step - loss: 0.7138 - accuracy: 0.4812 - val_loss: 0.6698 - val_accuracy: 0.5750\n",
      "Epoch 11/100\n",
      "5/5 [==============================] - 0s 11ms/step - loss: 0.7135 - accuracy: 0.4812 - val_loss: 0.6695 - val_accuracy: 0.5750\n",
      "Epoch 12/100\n",
      "5/5 [==============================] - 0s 12ms/step - loss: 0.7133 - accuracy: 0.4812 - val_loss: 0.6693 - val_accuracy: 0.5750\n",
      "Epoch 13/100\n",
      "5/5 [==============================] - 0s 10ms/step - loss: 0.7130 - accuracy: 0.4812 - val_loss: 0.6690 - val_accuracy: 0.5750\n",
      "Epoch 14/100\n",
      "5/5 [==============================] - 0s 12ms/step - loss: 0.7126 - accuracy: 0.4812 - val_loss: 0.6687 - val_accuracy: 0.5750\n",
      "Epoch 15/100\n",
      "5/5 [==============================] - 0s 11ms/step - loss: 0.7122 - accuracy: 0.4812 - val_loss: 0.6684 - val_accuracy: 0.5750\n",
      "Epoch 16/100\n",
      "5/5 [==============================] - 0s 12ms/step - loss: 0.7118 - accuracy: 0.4812 - val_loss: 0.6680 - val_accuracy: 0.5750\n",
      "Epoch 17/100\n",
      "5/5 [==============================] - 0s 11ms/step - loss: 0.7113 - accuracy: 0.4812 - val_loss: 0.6676 - val_accuracy: 0.5750\n",
      "Epoch 18/100\n",
      "5/5 [==============================] - 0s 11ms/step - loss: 0.7108 - accuracy: 0.4812 - val_loss: 0.6671 - val_accuracy: 0.5750\n",
      "Epoch 19/100\n",
      "5/5 [==============================] - 0s 11ms/step - loss: 0.7102 - accuracy: 0.4812 - val_loss: 0.6666 - val_accuracy: 0.5750\n",
      "Epoch 20/100\n",
      "5/5 [==============================] - 0s 12ms/step - loss: 0.7095 - accuracy: 0.4812 - val_loss: 0.6660 - val_accuracy: 0.5750\n",
      "Epoch 21/100\n",
      "5/5 [==============================] - 0s 12ms/step - loss: 0.7088 - accuracy: 0.4812 - val_loss: 0.6653 - val_accuracy: 0.5750\n",
      "Epoch 22/100\n",
      "5/5 [==============================] - 0s 11ms/step - loss: 0.7079 - accuracy: 0.4812 - val_loss: 0.6646 - val_accuracy: 0.5750\n",
      "Epoch 23/100\n",
      "5/5 [==============================] - 0s 11ms/step - loss: 0.7069 - accuracy: 0.4812 - val_loss: 0.6637 - val_accuracy: 0.5750\n",
      "Epoch 24/100\n",
      "5/5 [==============================] - 0s 11ms/step - loss: 0.7059 - accuracy: 0.4812 - val_loss: 0.6628 - val_accuracy: 0.5750\n",
      "Epoch 25/100\n",
      "5/5 [==============================] - 0s 11ms/step - loss: 0.7047 - accuracy: 0.4812 - val_loss: 0.6618 - val_accuracy: 0.5750\n",
      "Epoch 26/100\n",
      "5/5 [==============================] - 0s 11ms/step - loss: 0.7034 - accuracy: 0.4812 - val_loss: 0.6606 - val_accuracy: 0.5750\n",
      "Epoch 27/100\n",
      "5/5 [==============================] - 0s 11ms/step - loss: 0.7019 - accuracy: 0.4812 - val_loss: 0.6593 - val_accuracy: 0.5750\n",
      "Epoch 28/100\n",
      "5/5 [==============================] - 0s 11ms/step - loss: 0.7002 - accuracy: 0.4812 - val_loss: 0.6579 - val_accuracy: 0.5750\n",
      "Epoch 29/100\n",
      "5/5 [==============================] - 0s 11ms/step - loss: 0.6985 - accuracy: 0.4812 - val_loss: 0.6562 - val_accuracy: 0.5750\n",
      "Epoch 30/100\n",
      "5/5 [==============================] - 0s 11ms/step - loss: 0.6963 - accuracy: 0.4812 - val_loss: 0.6544 - val_accuracy: 0.5750\n",
      "Epoch 31/100\n",
      "5/5 [==============================] - 0s 11ms/step - loss: 0.6941 - accuracy: 0.4812 - val_loss: 0.6523 - val_accuracy: 0.5750\n",
      "Epoch 32/100\n",
      "5/5 [==============================] - 0s 11ms/step - loss: 0.6915 - accuracy: 0.4812 - val_loss: 0.6501 - val_accuracy: 0.5750\n",
      "Epoch 33/100\n",
      "5/5 [==============================] - 0s 11ms/step - loss: 0.6886 - accuracy: 0.4812 - val_loss: 0.6475 - val_accuracy: 0.5750\n",
      "Epoch 34/100\n",
      "5/5 [==============================] - 0s 11ms/step - loss: 0.6854 - accuracy: 0.4812 - val_loss: 0.6447 - val_accuracy: 0.5750\n",
      "Epoch 35/100\n",
      "5/5 [==============================] - 0s 11ms/step - loss: 0.6818 - accuracy: 0.4812 - val_loss: 0.6416 - val_accuracy: 0.5750\n",
      "Epoch 36/100\n",
      "5/5 [==============================] - 0s 12ms/step - loss: 0.6781 - accuracy: 0.4812 - val_loss: 0.6381 - val_accuracy: 0.5750\n",
      "Epoch 37/100\n",
      "5/5 [==============================] - 0s 12ms/step - loss: 0.6738 - accuracy: 0.4812 - val_loss: 0.6342 - val_accuracy: 0.5750\n",
      "Epoch 38/100\n",
      "5/5 [==============================] - 0s 11ms/step - loss: 0.6689 - accuracy: 0.4812 - val_loss: 0.6299 - val_accuracy: 0.5750\n",
      "Epoch 39/100\n",
      "5/5 [==============================] - 0s 11ms/step - loss: 0.6635 - accuracy: 0.4812 - val_loss: 0.6251 - val_accuracy: 0.5750\n",
      "Epoch 40/100\n",
      "5/5 [==============================] - 0s 11ms/step - loss: 0.6574 - accuracy: 0.4812 - val_loss: 0.6198 - val_accuracy: 0.5750\n",
      "Epoch 41/100\n",
      "5/5 [==============================] - 0s 11ms/step - loss: 0.6508 - accuracy: 0.4812 - val_loss: 0.6138 - val_accuracy: 0.5750\n",
      "Epoch 42/100\n",
      "5/5 [==============================] - 0s 10ms/step - loss: 0.6438 - accuracy: 0.4938 - val_loss: 0.6073 - val_accuracy: 0.6000\n",
      "Epoch 43/100\n",
      "5/5 [==============================] - 0s 10ms/step - loss: 0.6355 - accuracy: 0.5063 - val_loss: 0.6002 - val_accuracy: 0.6250\n",
      "Epoch 44/100\n",
      "5/5 [==============================] - 0s 10ms/step - loss: 0.6262 - accuracy: 0.5375 - val_loss: 0.5925 - val_accuracy: 0.7000\n",
      "Epoch 45/100\n",
      "5/5 [==============================] - 0s 10ms/step - loss: 0.6172 - accuracy: 0.6062 - val_loss: 0.5837 - val_accuracy: 0.7000\n",
      "Epoch 46/100\n",
      "5/5 [==============================] - 0s 10ms/step - loss: 0.6062 - accuracy: 0.6750 - val_loss: 0.5743 - val_accuracy: 0.8000\n",
      "Epoch 47/100\n",
      "5/5 [==============================] - 0s 11ms/step - loss: 0.5944 - accuracy: 0.7125 - val_loss: 0.5641 - val_accuracy: 0.8250\n",
      "Epoch 48/100\n",
      "5/5 [==============================] - 0s 10ms/step - loss: 0.5824 - accuracy: 0.7875 - val_loss: 0.5526 - val_accuracy: 0.8250\n",
      "Epoch 49/100\n",
      "5/5 [==============================] - 0s 11ms/step - loss: 0.5681 - accuracy: 0.8500 - val_loss: 0.5401 - val_accuracy: 0.8500\n",
      "Epoch 50/100\n",
      "5/5 [==============================] - 0s 10ms/step - loss: 0.5528 - accuracy: 0.8562 - val_loss: 0.5262 - val_accuracy: 0.8500\n",
      "Epoch 51/100\n",
      "5/5 [==============================] - 0s 10ms/step - loss: 0.5365 - accuracy: 0.8750 - val_loss: 0.5112 - val_accuracy: 0.8750\n",
      "Epoch 52/100\n",
      "5/5 [==============================] - 0s 15ms/step - loss: 0.5179 - accuracy: 0.8813 - val_loss: 0.4943 - val_accuracy: 0.8750\n",
      "Epoch 53/100\n",
      "5/5 [==============================] - 0s 11ms/step - loss: 0.4974 - accuracy: 0.8875 - val_loss: 0.4764 - val_accuracy: 0.9250\n",
      "Epoch 54/100\n",
      "5/5 [==============================] - 0s 11ms/step - loss: 0.4756 - accuracy: 0.8938 - val_loss: 0.4566 - val_accuracy: 0.9000\n",
      "Epoch 55/100\n",
      "5/5 [==============================] - 0s 11ms/step - loss: 0.4525 - accuracy: 0.9062 - val_loss: 0.4349 - val_accuracy: 0.9000\n",
      "Epoch 56/100\n",
      "5/5 [==============================] - 0s 11ms/step - loss: 0.4274 - accuracy: 0.9062 - val_loss: 0.4107 - val_accuracy: 0.9000\n",
      "Epoch 57/100\n",
      "5/5 [==============================] - 0s 11ms/step - loss: 0.3990 - accuracy: 0.9000 - val_loss: 0.3856 - val_accuracy: 0.9000\n",
      "Epoch 58/100\n",
      "5/5 [==============================] - 0s 10ms/step - loss: 0.3715 - accuracy: 0.8938 - val_loss: 0.3592 - val_accuracy: 0.9000\n",
      "Epoch 59/100\n",
      "5/5 [==============================] - 0s 11ms/step - loss: 0.3432 - accuracy: 0.8938 - val_loss: 0.3329 - val_accuracy: 0.9000\n",
      "Epoch 60/100\n",
      "5/5 [==============================] - 0s 11ms/step - loss: 0.3164 - accuracy: 0.9000 - val_loss: 0.3081 - val_accuracy: 0.9000\n",
      "Epoch 61/100\n",
      "5/5 [==============================] - 0s 11ms/step - loss: 0.2909 - accuracy: 0.9000 - val_loss: 0.2858 - val_accuracy: 0.9000\n",
      "Epoch 62/100\n",
      "5/5 [==============================] - 0s 10ms/step - loss: 0.2687 - accuracy: 0.9062 - val_loss: 0.2667 - val_accuracy: 0.9000\n",
      "Epoch 63/100\n",
      "5/5 [==============================] - 0s 10ms/step - loss: 0.2508 - accuracy: 0.9062 - val_loss: 0.2511 - val_accuracy: 0.9000\n",
      "Epoch 64/100\n",
      "5/5 [==============================] - 0s 10ms/step - loss: 0.2358 - accuracy: 0.9187 - val_loss: 0.2380 - val_accuracy: 0.8750\n",
      "Epoch 65/100\n",
      "5/5 [==============================] - 0s 11ms/step - loss: 0.2230 - accuracy: 0.9187 - val_loss: 0.2285 - val_accuracy: 0.9000\n",
      "Epoch 66/100\n",
      "5/5 [==============================] - 0s 11ms/step - loss: 0.2133 - accuracy: 0.9187 - val_loss: 0.2202 - val_accuracy: 0.9000\n",
      "Epoch 67/100\n",
      "5/5 [==============================] - 0s 12ms/step - loss: 0.2062 - accuracy: 0.9187 - val_loss: 0.2154 - val_accuracy: 0.9000\n",
      "Epoch 68/100\n",
      "5/5 [==============================] - 0s 10ms/step - loss: 0.1992 - accuracy: 0.9187 - val_loss: 0.2126 - val_accuracy: 0.9000\n",
      "Epoch 69/100\n",
      "5/5 [==============================] - 0s 11ms/step - loss: 0.1948 - accuracy: 0.9187 - val_loss: 0.2114 - val_accuracy: 0.9000\n",
      "Epoch 70/100\n",
      "5/5 [==============================] - 0s 11ms/step - loss: 0.1903 - accuracy: 0.9187 - val_loss: 0.2090 - val_accuracy: 0.9250\n",
      "Epoch 71/100\n",
      "5/5 [==============================] - 0s 11ms/step - loss: 0.1847 - accuracy: 0.9125 - val_loss: 0.2055 - val_accuracy: 0.9250\n",
      "Epoch 72/100\n",
      "5/5 [==============================] - 0s 11ms/step - loss: 0.1818 - accuracy: 0.9250 - val_loss: 0.2047 - val_accuracy: 0.9250\n",
      "Epoch 73/100\n",
      "5/5 [==============================] - 0s 11ms/step - loss: 0.1764 - accuracy: 0.9250 - val_loss: 0.1965 - val_accuracy: 0.9250\n",
      "Epoch 74/100\n",
      "5/5 [==============================] - 0s 11ms/step - loss: 0.1745 - accuracy: 0.9187 - val_loss: 0.1911 - val_accuracy: 0.9250\n",
      "Epoch 75/100\n",
      "5/5 [==============================] - 0s 12ms/step - loss: 0.1696 - accuracy: 0.9250 - val_loss: 0.1892 - val_accuracy: 0.9500\n",
      "Epoch 76/100\n",
      "5/5 [==============================] - 0s 11ms/step - loss: 0.1651 - accuracy: 0.9250 - val_loss: 0.1863 - val_accuracy: 0.9250\n",
      "Epoch 77/100\n",
      "5/5 [==============================] - 0s 11ms/step - loss: 0.1655 - accuracy: 0.9187 - val_loss: 0.1752 - val_accuracy: 0.9250\n",
      "Epoch 78/100\n",
      "5/5 [==============================] - 0s 11ms/step - loss: 0.1622 - accuracy: 0.9312 - val_loss: 0.1801 - val_accuracy: 0.9250\n",
      "Epoch 79/100\n",
      "5/5 [==============================] - 0s 12ms/step - loss: 0.1596 - accuracy: 0.9375 - val_loss: 0.1831 - val_accuracy: 0.9250\n",
      "Epoch 80/100\n",
      "5/5 [==============================] - 0s 10ms/step - loss: 0.1577 - accuracy: 0.9250 - val_loss: 0.1656 - val_accuracy: 0.9500\n",
      "Epoch 81/100\n",
      "5/5 [==============================] - 0s 11ms/step - loss: 0.1580 - accuracy: 0.9375 - val_loss: 0.1586 - val_accuracy: 0.9500\n",
      "Epoch 82/100\n",
      "5/5 [==============================] - 0s 11ms/step - loss: 0.1588 - accuracy: 0.9375 - val_loss: 0.1687 - val_accuracy: 0.9500\n",
      "Epoch 83/100\n",
      "5/5 [==============================] - 0s 11ms/step - loss: 0.1529 - accuracy: 0.9438 - val_loss: 0.1603 - val_accuracy: 0.9250\n",
      "Epoch 84/100\n",
      "5/5 [==============================] - 0s 10ms/step - loss: 0.1626 - accuracy: 0.9250 - val_loss: 0.1761 - val_accuracy: 0.9000\n",
      "Epoch 85/100\n",
      "5/5 [==============================] - 0s 14ms/step - loss: 0.1687 - accuracy: 0.9312 - val_loss: 0.1563 - val_accuracy: 0.9500\n",
      "Epoch 86/100\n",
      "5/5 [==============================] - 0s 10ms/step - loss: 0.1650 - accuracy: 0.9250 - val_loss: 0.1625 - val_accuracy: 0.9250\n",
      "Epoch 87/100\n",
      "5/5 [==============================] - 0s 11ms/step - loss: 0.2023 - accuracy: 0.9312 - val_loss: 0.1776 - val_accuracy: 0.9250\n",
      "Epoch 88/100\n",
      "5/5 [==============================] - 0s 10ms/step - loss: 0.1896 - accuracy: 0.9062 - val_loss: 0.1705 - val_accuracy: 0.9000\n",
      "Epoch 89/100\n",
      "5/5 [==============================] - 0s 11ms/step - loss: 0.1666 - accuracy: 0.9250 - val_loss: 0.1962 - val_accuracy: 0.9000\n",
      "Epoch 90/100\n",
      "5/5 [==============================] - 0s 11ms/step - loss: 0.1641 - accuracy: 0.9250 - val_loss: 0.1666 - val_accuracy: 0.9250\n",
      "Epoch 91/100\n",
      "5/5 [==============================] - 0s 11ms/step - loss: 0.1578 - accuracy: 0.9375 - val_loss: 0.1731 - val_accuracy: 0.9250\n",
      "Epoch 92/100\n",
      "5/5 [==============================] - 0s 10ms/step - loss: 0.1439 - accuracy: 0.9375 - val_loss: 0.1527 - val_accuracy: 0.9250\n",
      "Epoch 93/100\n",
      "5/5 [==============================] - 0s 11ms/step - loss: 0.1402 - accuracy: 0.9500 - val_loss: 0.1448 - val_accuracy: 0.9250\n",
      "Epoch 94/100\n",
      "5/5 [==============================] - 0s 11ms/step - loss: 0.1409 - accuracy: 0.9312 - val_loss: 0.1954 - val_accuracy: 0.8750\n",
      "Epoch 95/100\n",
      "5/5 [==============================] - 0s 11ms/step - loss: 0.2248 - accuracy: 0.9312 - val_loss: 0.1565 - val_accuracy: 0.9250\n",
      "Epoch 96/100\n",
      "5/5 [==============================] - 0s 15ms/step - loss: 0.1700 - accuracy: 0.9062 - val_loss: 0.1571 - val_accuracy: 0.9250\n",
      "Epoch 97/100\n",
      "5/5 [==============================] - 0s 12ms/step - loss: 0.1413 - accuracy: 0.9375 - val_loss: 0.4088 - val_accuracy: 0.9000\n",
      "Epoch 98/100\n",
      "5/5 [==============================] - 0s 11ms/step - loss: 0.2488 - accuracy: 0.9000 - val_loss: 0.1687 - val_accuracy: 0.9250\n",
      "Epoch 99/100\n",
      "5/5 [==============================] - 0s 11ms/step - loss: 0.2077 - accuracy: 0.9250 - val_loss: 0.2172 - val_accuracy: 0.9000\n",
      "Epoch 100/100\n",
      "5/5 [==============================] - 0s 12ms/step - loss: 0.3227 - accuracy: 0.8813 - val_loss: 0.2606 - val_accuracy: 0.9000\n"
     ]
    }
   ],
   "source": [
    "# Build a model structure\n",
    "model = tf.keras.models.Sequential([\n",
    "    tf.keras.layers.Dense(64, input_shape=[3], activation='relu'),\n",
    "    tf.keras.layers.Dense(64, activation='relu'),\n",
    "    #tf.keras.layers.Dense(64, activation='relu'),\n",
    "    tf.keras.layers.Dense(1, activation='sigmoid')\n",
    "])\n",
    "\n",
    "model.compile(optimizer=tf.keras.optimizers.Adam(learning_rate=1e-3), \n",
    "             loss='binary_crossentropy',\n",
    "             metrics=['accuracy'])\n",
    "\n",
    "history = model.fit(X_train, y_train, validation_data=(X_test, y_test), epochs=100, callbacks=[lr_schedule])"
   ]
  },
  {
   "cell_type": "code",
   "execution_count": 16,
   "id": "0f5ab06a",
   "metadata": {
    "execution": {
     "iopub.execute_input": "2022-05-31T02:59:54.252107Z",
     "iopub.status.busy": "2022-05-31T02:59:54.251182Z",
     "iopub.status.idle": "2022-05-31T02:59:54.260627Z",
     "shell.execute_reply": "2022-05-31T02:59:54.259734Z"
    },
    "papermill": {
     "duration": 0.042447,
     "end_time": "2022-05-31T02:59:54.262547",
     "exception": false,
     "start_time": "2022-05-31T02:59:54.220100",
     "status": "completed"
    },
    "tags": []
   },
   "outputs": [],
   "source": [
    "second_11_labels = data['label'].unique()[10:]\n",
    "\n",
    "def new_model(data, labels):\n",
    "    for label in labels:\n",
    "        # Initiate data\n",
    "        crop_data = take_200(data, label)\n",
    "        \n",
    "        # Initiate variables\n",
    "        X = crop_data\n",
    "        y = X.pop('label')\n",
    "        \n",
    "        # Split Training and Testing Dataset\n",
    "        X_train, X_test, y_train, y_test = train_test_split(X, y, test_size=0.2, \n",
    "                                                            random_state=42)\n",
    "        \n",
    "        # Perform Standard Scaling\n",
    "        X_train = sc.fit_transform(X_train)\n",
    "        X_test = sc.transform(X_test)\n",
    "        \n",
    "        # Initiate a model structure\n",
    "        model = tf.keras.models.Sequential([\n",
    "            tf.keras.layers.Dense(64, input_shape=[3], activation='relu'),\n",
    "            tf.keras.layers.Dense(64, activation='relu'),\n",
    "            #tf.keras.layers.Dense(64, activation='relu'),\n",
    "            tf.keras.layers.Dense(1, activation='sigmoid')\n",
    "        ])\n",
    "        \n",
    "        model.compile(optimizer=tf.keras.optimizers.Adam(learning_rate=1e-3), \n",
    "             loss='binary_crossentropy',\n",
    "             metrics=['accuracy'])\n",
    "        \n",
    "        # Fitting the Modek\n",
    "        history = model.fit(X_train, y_train, validation_data=(X_test, y_test), epochs=100, verbose=0)\n",
    "        \n",
    "        print('{} model => Accuracy: {:.2%} & Validation Accuracy: {:.2%}\\n'.format(label.capitalize(), history.history['accuracy'][-1], \n",
    "                                                                          history.history['val_accuracy'][-1]))"
   ]
  },
  {
   "cell_type": "code",
   "execution_count": 17,
   "id": "bf068747",
   "metadata": {
    "execution": {
     "iopub.execute_input": "2022-05-31T02:59:54.328548Z",
     "iopub.status.busy": "2022-05-31T02:59:54.327610Z",
     "iopub.status.idle": "2022-05-31T03:00:53.610586Z",
     "shell.execute_reply": "2022-05-31T03:00:53.609039Z"
    },
    "papermill": {
     "duration": 59.321076,
     "end_time": "2022-05-31T03:00:53.613322",
     "exception": false,
     "start_time": "2022-05-31T02:59:54.292246",
     "status": "completed"
    },
    "tags": []
   },
   "outputs": [
    {
     "name": "stdout",
     "output_type": "stream",
     "text": [
      "Banana model => Accuracy: 100.00% & Validation Accuracy: 92.50%\n",
      "\n",
      "Mango model => Accuracy: 99.37% & Validation Accuracy: 97.50%\n",
      "\n",
      "Grapes model => Accuracy: 100.00% & Validation Accuracy: 100.00%\n",
      "\n",
      "Watermelon model => Accuracy: 98.12% & Validation Accuracy: 97.50%\n",
      "\n",
      "Muskmelon model => Accuracy: 100.00% & Validation Accuracy: 100.00%\n",
      "\n",
      "Apple model => Accuracy: 99.37% & Validation Accuracy: 95.00%\n",
      "\n",
      "Orange model => Accuracy: 97.50% & Validation Accuracy: 95.00%\n",
      "\n",
      "Papaya model => Accuracy: 97.50% & Validation Accuracy: 92.50%\n",
      "\n",
      "Coconut model => Accuracy: 99.37% & Validation Accuracy: 97.50%\n",
      "\n",
      "Cotton model => Accuracy: 100.00% & Validation Accuracy: 97.50%\n",
      "\n",
      "Jute model => Accuracy: 100.00% & Validation Accuracy: 90.00%\n",
      "\n",
      "Coffee model => Accuracy: 99.37% & Validation Accuracy: 100.00%\n",
      "\n"
     ]
    }
   ],
   "source": [
    "new_model(data, second_11_labels)"
   ]
  },
  {
   "cell_type": "code",
   "execution_count": null,
   "id": "66220fb5",
   "metadata": {
    "papermill": {
     "duration": 0.028364,
     "end_time": "2022-05-31T03:00:53.671004",
     "exception": false,
     "start_time": "2022-05-31T03:00:53.642640",
     "status": "completed"
    },
    "tags": []
   },
   "outputs": [],
   "source": []
  }
 ],
 "metadata": {
  "kernelspec": {
   "display_name": "Python 3",
   "language": "python",
   "name": "python3"
  },
  "language_info": {
   "codemirror_mode": {
    "name": "ipython",
    "version": 3
   },
   "file_extension": ".py",
   "mimetype": "text/x-python",
   "name": "python",
   "nbconvert_exporter": "python",
   "pygments_lexer": "ipython3",
   "version": "3.7.12"
  },
  "papermill": {
   "default_parameters": {},
   "duration": 230.507579,
   "end_time": "2022-05-31T03:00:56.883371",
   "environment_variables": {},
   "exception": null,
   "input_path": "__notebook__.ipynb",
   "output_path": "__notebook__.ipynb",
   "parameters": {},
   "start_time": "2022-05-31T02:57:06.375792",
   "version": "2.3.4"
  }
 },
 "nbformat": 4,
 "nbformat_minor": 5
}

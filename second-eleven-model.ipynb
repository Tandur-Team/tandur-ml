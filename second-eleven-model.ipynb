{
 "cells": [
  {
   "cell_type": "code",
   "execution_count": 1,
   "id": "9ab1f506",
   "metadata": {
    "_cell_guid": "b1076dfc-b9ad-4769-8c92-a6c4dae69d19",
    "_uuid": "8f2839f25d086af736a60e9eeb907d3b93b6e0e5",
    "execution": {
     "iopub.execute_input": "2022-05-28T10:06:18.064054Z",
     "iopub.status.busy": "2022-05-28T10:06:18.063601Z",
     "iopub.status.idle": "2022-05-28T10:06:24.116376Z",
     "shell.execute_reply": "2022-05-28T10:06:24.115363Z"
    },
    "papermill": {
     "duration": 6.062539,
     "end_time": "2022-05-28T10:06:24.118765",
     "exception": false,
     "start_time": "2022-05-28T10:06:18.056226",
     "status": "completed"
    },
    "tags": []
   },
   "outputs": [],
   "source": [
    "import numpy as np\n",
    "import pandas as pd\n",
    "import matplotlib.pyplot as plt\n",
    "import tensorflow as tf\n",
    "import seaborn as sns\n",
    "sns.set_style()"
   ]
  },
  {
   "cell_type": "code",
   "execution_count": 2,
   "id": "f0e2ebb5",
   "metadata": {
    "execution": {
     "iopub.execute_input": "2022-05-28T10:06:24.130491Z",
     "iopub.status.busy": "2022-05-28T10:06:24.129840Z",
     "iopub.status.idle": "2022-05-28T10:06:24.174905Z",
     "shell.execute_reply": "2022-05-28T10:06:24.173844Z"
    },
    "papermill": {
     "duration": 0.054452,
     "end_time": "2022-05-28T10:06:24.178409",
     "exception": false,
     "start_time": "2022-05-28T10:06:24.123957",
     "status": "completed"
    },
    "tags": []
   },
   "outputs": [
    {
     "data": {
      "text/html": [
       "<div>\n",
       "<style scoped>\n",
       "    .dataframe tbody tr th:only-of-type {\n",
       "        vertical-align: middle;\n",
       "    }\n",
       "\n",
       "    .dataframe tbody tr th {\n",
       "        vertical-align: top;\n",
       "    }\n",
       "\n",
       "    .dataframe thead th {\n",
       "        text-align: right;\n",
       "    }\n",
       "</style>\n",
       "<table border=\"1\" class=\"dataframe\">\n",
       "  <thead>\n",
       "    <tr style=\"text-align: right;\">\n",
       "      <th></th>\n",
       "      <th>temperature</th>\n",
       "      <th>humidity</th>\n",
       "      <th>rainfall</th>\n",
       "      <th>label</th>\n",
       "    </tr>\n",
       "  </thead>\n",
       "  <tbody>\n",
       "    <tr>\n",
       "      <th>0</th>\n",
       "      <td>20.879744</td>\n",
       "      <td>82.002744</td>\n",
       "      <td>202.935536</td>\n",
       "      <td>rice</td>\n",
       "    </tr>\n",
       "    <tr>\n",
       "      <th>1</th>\n",
       "      <td>21.770462</td>\n",
       "      <td>80.319644</td>\n",
       "      <td>226.655537</td>\n",
       "      <td>rice</td>\n",
       "    </tr>\n",
       "    <tr>\n",
       "      <th>2</th>\n",
       "      <td>23.004459</td>\n",
       "      <td>82.320763</td>\n",
       "      <td>263.964248</td>\n",
       "      <td>rice</td>\n",
       "    </tr>\n",
       "    <tr>\n",
       "      <th>3</th>\n",
       "      <td>26.491096</td>\n",
       "      <td>80.158363</td>\n",
       "      <td>242.864034</td>\n",
       "      <td>rice</td>\n",
       "    </tr>\n",
       "    <tr>\n",
       "      <th>4</th>\n",
       "      <td>20.130175</td>\n",
       "      <td>81.604873</td>\n",
       "      <td>262.717340</td>\n",
       "      <td>rice</td>\n",
       "    </tr>\n",
       "  </tbody>\n",
       "</table>\n",
       "</div>"
      ],
      "text/plain": [
       "   temperature   humidity    rainfall label\n",
       "0    20.879744  82.002744  202.935536  rice\n",
       "1    21.770462  80.319644  226.655537  rice\n",
       "2    23.004459  82.320763  263.964248  rice\n",
       "3    26.491096  80.158363  242.864034  rice\n",
       "4    20.130175  81.604873  262.717340  rice"
      ]
     },
     "execution_count": 2,
     "metadata": {},
     "output_type": "execute_result"
    }
   ],
   "source": [
    "data = pd.read_csv('../input/crop-recommendation-dataset/Crop_recommendation.csv')\n",
    "data.drop(['N', 'P', 'K', 'ph'], axis=1, inplace=True)\n",
    "data.head()"
   ]
  },
  {
   "cell_type": "code",
   "execution_count": 3,
   "id": "53acc948",
   "metadata": {
    "execution": {
     "iopub.execute_input": "2022-05-28T10:06:24.189989Z",
     "iopub.status.busy": "2022-05-28T10:06:24.189639Z",
     "iopub.status.idle": "2022-05-28T10:06:24.199093Z",
     "shell.execute_reply": "2022-05-28T10:06:24.198270Z"
    },
    "papermill": {
     "duration": 0.017567,
     "end_time": "2022-05-28T10:06:24.201036",
     "exception": false,
     "start_time": "2022-05-28T10:06:24.183469",
     "status": "completed"
    },
    "tags": []
   },
   "outputs": [
    {
     "data": {
      "text/plain": [
       "array(['banana', 'mango', 'grapes', 'watermelon', 'muskmelon', 'apple',\n",
       "       'orange', 'papaya', 'coconut', 'cotton', 'jute', 'coffee'],\n",
       "      dtype=object)"
      ]
     },
     "execution_count": 3,
     "metadata": {},
     "output_type": "execute_result"
    }
   ],
   "source": [
    "data['label'].unique()[10:] # Second Eleven Label"
   ]
  },
  {
   "cell_type": "markdown",
   "id": "9bfc0468",
   "metadata": {
    "papermill": {
     "duration": 0.004717,
     "end_time": "2022-05-28T10:06:24.210829",
     "exception": false,
     "start_time": "2022-05-28T10:06:24.206112",
     "status": "completed"
    },
    "tags": []
   },
   "source": [
    "## Data Preprocessing"
   ]
  },
  {
   "cell_type": "code",
   "execution_count": 4,
   "id": "207d0aa2",
   "metadata": {
    "execution": {
     "iopub.execute_input": "2022-05-28T10:06:24.222296Z",
     "iopub.status.busy": "2022-05-28T10:06:24.221938Z",
     "iopub.status.idle": "2022-05-28T10:06:24.229238Z",
     "shell.execute_reply": "2022-05-28T10:06:24.228372Z"
    },
    "papermill": {
     "duration": 0.015345,
     "end_time": "2022-05-28T10:06:24.231095",
     "exception": false,
     "start_time": "2022-05-28T10:06:24.215750",
     "status": "completed"
    },
    "tags": []
   },
   "outputs": [],
   "source": [
    "def convert_label(row, label):\n",
    "    if row['label'] == label:\n",
    "        row['label'] = 1\n",
    "    else:\n",
    "        row['label'] = 0\n",
    "    return row\n",
    "\n",
    "def take_200(data, label):\n",
    "    \n",
    "    # Data for particular label\n",
    "    specific_data = data[data['label'] == label]\n",
    "    \n",
    "    n = len(specific_data)\n",
    "    \n",
    "    # Data for beside particular label\n",
    "    beside_data = data[data['label'] != label].sample(n)\n",
    "    \n",
    "    # Combine specific_data and beside_data\n",
    "    combined_data = pd.concat([specific_data, beside_data])\n",
    "    \n",
    "    # Apply combined_data to convert_label function\n",
    "    new_data = combined_data.apply(convert_label, label=label, axis=1)\n",
    "    \n",
    "    # Reset index and shuffle\n",
    "    return new_data.sample(frac=1).reset_index(drop=True)"
   ]
  },
  {
   "cell_type": "code",
   "execution_count": 5,
   "id": "dd8c9399",
   "metadata": {
    "execution": {
     "iopub.execute_input": "2022-05-28T10:06:24.242650Z",
     "iopub.status.busy": "2022-05-28T10:06:24.242241Z",
     "iopub.status.idle": "2022-05-28T10:06:24.278126Z",
     "shell.execute_reply": "2022-05-28T10:06:24.276988Z"
    },
    "papermill": {
     "duration": 0.044881,
     "end_time": "2022-05-28T10:06:24.280980",
     "exception": false,
     "start_time": "2022-05-28T10:06:24.236099",
     "status": "completed"
    },
    "tags": []
   },
   "outputs": [
    {
     "name": "stdout",
     "output_type": "stream",
     "text": [
      "First 5 observations of data: \n",
      "\n"
     ]
    },
    {
     "data": {
      "text/html": [
       "<div>\n",
       "<style scoped>\n",
       "    .dataframe tbody tr th:only-of-type {\n",
       "        vertical-align: middle;\n",
       "    }\n",
       "\n",
       "    .dataframe tbody tr th {\n",
       "        vertical-align: top;\n",
       "    }\n",
       "\n",
       "    .dataframe thead th {\n",
       "        text-align: right;\n",
       "    }\n",
       "</style>\n",
       "<table border=\"1\" class=\"dataframe\">\n",
       "  <thead>\n",
       "    <tr style=\"text-align: right;\">\n",
       "      <th></th>\n",
       "      <th>temperature</th>\n",
       "      <th>humidity</th>\n",
       "      <th>rainfall</th>\n",
       "      <th>label</th>\n",
       "    </tr>\n",
       "  </thead>\n",
       "  <tbody>\n",
       "    <tr>\n",
       "      <th>0</th>\n",
       "      <td>25.282722</td>\n",
       "      <td>80.543728</td>\n",
       "      <td>220.115671</td>\n",
       "      <td>1</td>\n",
       "    </tr>\n",
       "    <tr>\n",
       "      <th>1</th>\n",
       "      <td>30.107734</td>\n",
       "      <td>90.345464</td>\n",
       "      <td>75.245220</td>\n",
       "      <td>0</td>\n",
       "    </tr>\n",
       "    <tr>\n",
       "      <th>2</th>\n",
       "      <td>24.185532</td>\n",
       "      <td>46.687468</td>\n",
       "      <td>177.337800</td>\n",
       "      <td>0</td>\n",
       "    </tr>\n",
       "    <tr>\n",
       "      <th>3</th>\n",
       "      <td>21.019447</td>\n",
       "      <td>82.952217</td>\n",
       "      <td>298.401847</td>\n",
       "      <td>1</td>\n",
       "    </tr>\n",
       "    <tr>\n",
       "      <th>4</th>\n",
       "      <td>25.161254</td>\n",
       "      <td>55.254358</td>\n",
       "      <td>40.897328</td>\n",
       "      <td>0</td>\n",
       "    </tr>\n",
       "  </tbody>\n",
       "</table>\n",
       "</div>"
      ],
      "text/plain": [
       "   temperature   humidity    rainfall  label\n",
       "0    25.282722  80.543728  220.115671      1\n",
       "1    30.107734  90.345464   75.245220      0\n",
       "2    24.185532  46.687468  177.337800      0\n",
       "3    21.019447  82.952217  298.401847      1\n",
       "4    25.161254  55.254358   40.897328      0"
      ]
     },
     "execution_count": 5,
     "metadata": {},
     "output_type": "execute_result"
    }
   ],
   "source": [
    "print('First 5 observations of data: \\n')\n",
    "take_200(data, 'rice').head(5)"
   ]
  },
  {
   "cell_type": "markdown",
   "id": "9b9ad12d",
   "metadata": {
    "papermill": {
     "duration": 0.005168,
     "end_time": "2022-05-28T10:06:24.291612",
     "exception": false,
     "start_time": "2022-05-28T10:06:24.286444",
     "status": "completed"
    },
    "tags": []
   },
   "source": [
    "## Model Building"
   ]
  },
  {
   "cell_type": "code",
   "execution_count": 6,
   "id": "76369a4e",
   "metadata": {
    "execution": {
     "iopub.execute_input": "2022-05-28T10:06:24.303939Z",
     "iopub.status.busy": "2022-05-28T10:06:24.303238Z",
     "iopub.status.idle": "2022-05-28T10:06:24.492447Z",
     "shell.execute_reply": "2022-05-28T10:06:24.491504Z"
    },
    "papermill": {
     "duration": 0.19758,
     "end_time": "2022-05-28T10:06:24.494409",
     "exception": false,
     "start_time": "2022-05-28T10:06:24.296829",
     "status": "completed"
    },
    "tags": []
   },
   "outputs": [
    {
     "data": {
      "text/html": [
       "<div>\n",
       "<style scoped>\n",
       "    .dataframe tbody tr th:only-of-type {\n",
       "        vertical-align: middle;\n",
       "    }\n",
       "\n",
       "    .dataframe tbody tr th {\n",
       "        vertical-align: top;\n",
       "    }\n",
       "\n",
       "    .dataframe thead th {\n",
       "        text-align: right;\n",
       "    }\n",
       "</style>\n",
       "<table border=\"1\" class=\"dataframe\">\n",
       "  <thead>\n",
       "    <tr style=\"text-align: right;\">\n",
       "      <th></th>\n",
       "      <th>temperature</th>\n",
       "      <th>humidity</th>\n",
       "      <th>rainfall</th>\n",
       "      <th>label</th>\n",
       "    </tr>\n",
       "  </thead>\n",
       "  <tbody>\n",
       "    <tr>\n",
       "      <th>0</th>\n",
       "      <td>22.145937</td>\n",
       "      <td>82.859755</td>\n",
       "      <td>60.653817</td>\n",
       "      <td>0</td>\n",
       "    </tr>\n",
       "    <tr>\n",
       "      <th>1</th>\n",
       "      <td>25.449262</td>\n",
       "      <td>79.492220</td>\n",
       "      <td>100.661917</td>\n",
       "      <td>1</td>\n",
       "    </tr>\n",
       "    <tr>\n",
       "      <th>2</th>\n",
       "      <td>21.723831</td>\n",
       "      <td>80.238990</td>\n",
       "      <td>277.962619</td>\n",
       "      <td>0</td>\n",
       "    </tr>\n",
       "    <tr>\n",
       "      <th>3</th>\n",
       "      <td>25.314685</td>\n",
       "      <td>77.917571</td>\n",
       "      <td>72.829021</td>\n",
       "      <td>0</td>\n",
       "    </tr>\n",
       "    <tr>\n",
       "      <th>4</th>\n",
       "      <td>25.434805</td>\n",
       "      <td>81.539778</td>\n",
       "      <td>96.478004</td>\n",
       "      <td>1</td>\n",
       "    </tr>\n",
       "  </tbody>\n",
       "</table>\n",
       "</div>"
      ],
      "text/plain": [
       "   temperature   humidity    rainfall  label\n",
       "0    22.145937  82.859755   60.653817      0\n",
       "1    25.449262  79.492220  100.661917      1\n",
       "2    21.723831  80.238990  277.962619      0\n",
       "3    25.314685  77.917571   72.829021      0\n",
       "4    25.434805  81.539778   96.478004      1"
      ]
     },
     "execution_count": 6,
     "metadata": {},
     "output_type": "execute_result"
    }
   ],
   "source": [
    "banana_data = take_200(data, 'banana')\n",
    "banana_data.head()"
   ]
  },
  {
   "cell_type": "code",
   "execution_count": 7,
   "id": "0cbe5135",
   "metadata": {
    "execution": {
     "iopub.execute_input": "2022-05-28T10:06:24.507108Z",
     "iopub.status.busy": "2022-05-28T10:06:24.506746Z",
     "iopub.status.idle": "2022-05-28T10:06:24.511455Z",
     "shell.execute_reply": "2022-05-28T10:06:24.510589Z"
    },
    "papermill": {
     "duration": 0.013358,
     "end_time": "2022-05-28T10:06:24.513292",
     "exception": false,
     "start_time": "2022-05-28T10:06:24.499934",
     "status": "completed"
    },
    "tags": []
   },
   "outputs": [],
   "source": [
    "# Define variables\n",
    "X = banana_data\n",
    "y = X.pop('label')"
   ]
  },
  {
   "cell_type": "code",
   "execution_count": 8,
   "id": "a6dc8f5d",
   "metadata": {
    "execution": {
     "iopub.execute_input": "2022-05-28T10:06:24.525243Z",
     "iopub.status.busy": "2022-05-28T10:06:24.524920Z",
     "iopub.status.idle": "2022-05-28T10:06:24.534695Z",
     "shell.execute_reply": "2022-05-28T10:06:24.533682Z"
    },
    "papermill": {
     "duration": 0.018223,
     "end_time": "2022-05-28T10:06:24.536833",
     "exception": false,
     "start_time": "2022-05-28T10:06:24.518610",
     "status": "completed"
    },
    "tags": []
   },
   "outputs": [
    {
     "data": {
      "text/html": [
       "<div>\n",
       "<style scoped>\n",
       "    .dataframe tbody tr th:only-of-type {\n",
       "        vertical-align: middle;\n",
       "    }\n",
       "\n",
       "    .dataframe tbody tr th {\n",
       "        vertical-align: top;\n",
       "    }\n",
       "\n",
       "    .dataframe thead th {\n",
       "        text-align: right;\n",
       "    }\n",
       "</style>\n",
       "<table border=\"1\" class=\"dataframe\">\n",
       "  <thead>\n",
       "    <tr style=\"text-align: right;\">\n",
       "      <th></th>\n",
       "      <th>temperature</th>\n",
       "      <th>humidity</th>\n",
       "      <th>rainfall</th>\n",
       "    </tr>\n",
       "  </thead>\n",
       "  <tbody>\n",
       "    <tr>\n",
       "      <th>0</th>\n",
       "      <td>22.145937</td>\n",
       "      <td>82.859755</td>\n",
       "      <td>60.653817</td>\n",
       "    </tr>\n",
       "  </tbody>\n",
       "</table>\n",
       "</div>"
      ],
      "text/plain": [
       "   temperature   humidity   rainfall\n",
       "0    22.145937  82.859755  60.653817"
      ]
     },
     "execution_count": 8,
     "metadata": {},
     "output_type": "execute_result"
    }
   ],
   "source": [
    "# Input Structure\n",
    "X.head(1)"
   ]
  },
  {
   "cell_type": "code",
   "execution_count": 9,
   "id": "aaa71d1a",
   "metadata": {
    "execution": {
     "iopub.execute_input": "2022-05-28T10:06:24.550437Z",
     "iopub.status.busy": "2022-05-28T10:06:24.549678Z",
     "iopub.status.idle": "2022-05-28T10:06:24.556251Z",
     "shell.execute_reply": "2022-05-28T10:06:24.555412Z"
    },
    "papermill": {
     "duration": 0.015129,
     "end_time": "2022-05-28T10:06:24.558131",
     "exception": false,
     "start_time": "2022-05-28T10:06:24.543002",
     "status": "completed"
    },
    "tags": []
   },
   "outputs": [
    {
     "data": {
      "text/plain": [
       "'\\nACCURACY_THRESHOLD = 0.95\\nVAL_ACCURACY_THRESHOLD = 0.95\\n\\nclass myCallback(tf.keras.callbacks.Callback):\\n    def on_epoch_end(self, epoch, logs={}):\\n        acc = logs.get(\\'acc\\')\\n        val_acc = logs.get(\\'val_acc\\')\\n        if(acc > 0.95):\\n            print(\"\\nReached %2.2f%% accuracy, so stopping training!!\" %(ACCURACY_THRESHOLD*100))\\n            self.model.stop_training = True\\n\\ncallbacks = myCallback()\\n'"
      ]
     },
     "execution_count": 9,
     "metadata": {},
     "output_type": "execute_result"
    }
   ],
   "source": [
    "'''\n",
    "ACCURACY_THRESHOLD = 0.95\n",
    "VAL_ACCURACY_THRESHOLD = 0.95\n",
    "\n",
    "class myCallback(tf.keras.callbacks.Callback):\n",
    "    def on_epoch_end(self, epoch, logs={}):\n",
    "        acc = logs.get('acc')\n",
    "        val_acc = logs.get('val_acc')\n",
    "        if(acc > 0.95):\n",
    "            print(\"\\nReached %2.2f%% accuracy, so stopping training!!\" %(ACCURACY_THRESHOLD*100))\n",
    "            self.model.stop_training = True\n",
    "\n",
    "callbacks = myCallback()\n",
    "'''"
   ]
  },
  {
   "cell_type": "code",
   "execution_count": 10,
   "id": "0fbdc802",
   "metadata": {
    "execution": {
     "iopub.execute_input": "2022-05-28T10:06:24.571010Z",
     "iopub.status.busy": "2022-05-28T10:06:24.570401Z",
     "iopub.status.idle": "2022-05-28T10:06:31.775450Z",
     "shell.execute_reply": "2022-05-28T10:06:31.774410Z"
    },
    "papermill": {
     "duration": 7.214335,
     "end_time": "2022-05-28T10:06:31.778012",
     "exception": false,
     "start_time": "2022-05-28T10:06:24.563677",
     "status": "completed"
    },
    "tags": []
   },
   "outputs": [
    {
     "name": "stderr",
     "output_type": "stream",
     "text": [
      "2022-05-28 10:06:25.890715: I tensorflow/core/common_runtime/process_util.cc:146] Creating new thread pool with default inter op setting: 2. Tune using inter_op_parallelism_threads for best performance.\n",
      "2022-05-28 10:06:26.052890: I tensorflow/compiler/mlir/mlir_graph_optimization_pass.cc:185] None of the MLIR Optimization Passes are enabled (registered 2)\n"
     ]
    },
    {
     "name": "stdout",
     "output_type": "stream",
     "text": [
      "Epoch 1/100\n",
      "5/5 [==============================] - 1s 61ms/step - loss: 2.6405 - accuracy: 0.4938 - val_loss: 1.1057 - val_accuracy: 0.5500\n",
      "Epoch 2/100\n",
      "5/5 [==============================] - 0s 10ms/step - loss: 0.9285 - accuracy: 0.4938 - val_loss: 0.8900 - val_accuracy: 0.4750\n",
      "Epoch 3/100\n",
      "5/5 [==============================] - 0s 10ms/step - loss: 0.9002 - accuracy: 0.4875 - val_loss: 0.8893 - val_accuracy: 0.4750\n",
      "Epoch 4/100\n",
      "5/5 [==============================] - 0s 11ms/step - loss: 0.6694 - accuracy: 0.5125 - val_loss: 0.5961 - val_accuracy: 0.6500\n",
      "Epoch 5/100\n",
      "5/5 [==============================] - 0s 11ms/step - loss: 0.5314 - accuracy: 0.7375 - val_loss: 0.6467 - val_accuracy: 0.6250\n",
      "Epoch 6/100\n",
      "5/5 [==============================] - 0s 10ms/step - loss: 0.4978 - accuracy: 0.6938 - val_loss: 0.5850 - val_accuracy: 0.7000\n",
      "Epoch 7/100\n",
      "5/5 [==============================] - 0s 10ms/step - loss: 0.3957 - accuracy: 0.8750 - val_loss: 0.5313 - val_accuracy: 0.6750\n",
      "Epoch 8/100\n",
      "5/5 [==============================] - 0s 10ms/step - loss: 0.3720 - accuracy: 0.8813 - val_loss: 0.5235 - val_accuracy: 0.7000\n",
      "Epoch 9/100\n",
      "5/5 [==============================] - 0s 10ms/step - loss: 0.3454 - accuracy: 0.8750 - val_loss: 0.5151 - val_accuracy: 0.7250\n",
      "Epoch 10/100\n",
      "5/5 [==============================] - 0s 11ms/step - loss: 0.3164 - accuracy: 0.9062 - val_loss: 0.5411 - val_accuracy: 0.7750\n",
      "Epoch 11/100\n",
      "5/5 [==============================] - 0s 10ms/step - loss: 0.3070 - accuracy: 0.8938 - val_loss: 0.5341 - val_accuracy: 0.7750\n",
      "Epoch 12/100\n",
      "5/5 [==============================] - 0s 11ms/step - loss: 0.2922 - accuracy: 0.8938 - val_loss: 0.5112 - val_accuracy: 0.7500\n",
      "Epoch 13/100\n",
      "5/5 [==============================] - 0s 11ms/step - loss: 0.2850 - accuracy: 0.8938 - val_loss: 0.4932 - val_accuracy: 0.7250\n",
      "Epoch 14/100\n",
      "5/5 [==============================] - 0s 11ms/step - loss: 0.2750 - accuracy: 0.9000 - val_loss: 0.4905 - val_accuracy: 0.7250\n",
      "Epoch 15/100\n",
      "5/5 [==============================] - 0s 10ms/step - loss: 0.2686 - accuracy: 0.8938 - val_loss: 0.4957 - val_accuracy: 0.7750\n",
      "Epoch 16/100\n",
      "5/5 [==============================] - 0s 10ms/step - loss: 0.2597 - accuracy: 0.9062 - val_loss: 0.4814 - val_accuracy: 0.7750\n",
      "Epoch 17/100\n",
      "5/5 [==============================] - 0s 10ms/step - loss: 0.2535 - accuracy: 0.9125 - val_loss: 0.4707 - val_accuracy: 0.7500\n",
      "Epoch 18/100\n",
      "5/5 [==============================] - 0s 11ms/step - loss: 0.2478 - accuracy: 0.9187 - val_loss: 0.4575 - val_accuracy: 0.7250\n",
      "Epoch 19/100\n",
      "5/5 [==============================] - 0s 10ms/step - loss: 0.2429 - accuracy: 0.9125 - val_loss: 0.4557 - val_accuracy: 0.7750\n",
      "Epoch 20/100\n",
      "5/5 [==============================] - 0s 10ms/step - loss: 0.2361 - accuracy: 0.9125 - val_loss: 0.4381 - val_accuracy: 0.7500\n",
      "Epoch 21/100\n",
      "5/5 [==============================] - 0s 10ms/step - loss: 0.2319 - accuracy: 0.9062 - val_loss: 0.4548 - val_accuracy: 0.7750\n",
      "Epoch 22/100\n",
      "5/5 [==============================] - 0s 10ms/step - loss: 0.2268 - accuracy: 0.9000 - val_loss: 0.4127 - val_accuracy: 0.7500\n",
      "Epoch 23/100\n",
      "5/5 [==============================] - 0s 10ms/step - loss: 0.2198 - accuracy: 0.9000 - val_loss: 0.4346 - val_accuracy: 0.7750\n",
      "Epoch 24/100\n",
      "5/5 [==============================] - 0s 10ms/step - loss: 0.2115 - accuracy: 0.9125 - val_loss: 0.4184 - val_accuracy: 0.8000\n",
      "Epoch 25/100\n",
      "5/5 [==============================] - 0s 10ms/step - loss: 0.2123 - accuracy: 0.9125 - val_loss: 0.4018 - val_accuracy: 0.7750\n",
      "Epoch 26/100\n",
      "5/5 [==============================] - 0s 10ms/step - loss: 0.2040 - accuracy: 0.9062 - val_loss: 0.4074 - val_accuracy: 0.7750\n",
      "Epoch 27/100\n",
      "5/5 [==============================] - 0s 10ms/step - loss: 0.1993 - accuracy: 0.9250 - val_loss: 0.3953 - val_accuracy: 0.7750\n",
      "Epoch 28/100\n",
      "5/5 [==============================] - 0s 10ms/step - loss: 0.1967 - accuracy: 0.9187 - val_loss: 0.3853 - val_accuracy: 0.7500\n",
      "Epoch 29/100\n",
      "5/5 [==============================] - 0s 10ms/step - loss: 0.2007 - accuracy: 0.9062 - val_loss: 0.4074 - val_accuracy: 0.8000\n",
      "Epoch 30/100\n",
      "5/5 [==============================] - 0s 10ms/step - loss: 0.1868 - accuracy: 0.9250 - val_loss: 0.3720 - val_accuracy: 0.7750\n",
      "Epoch 31/100\n",
      "5/5 [==============================] - 0s 10ms/step - loss: 0.1878 - accuracy: 0.9312 - val_loss: 0.3707 - val_accuracy: 0.7750\n",
      "Epoch 32/100\n",
      "5/5 [==============================] - 0s 11ms/step - loss: 0.1941 - accuracy: 0.9125 - val_loss: 0.4125 - val_accuracy: 0.8000\n",
      "Epoch 33/100\n",
      "5/5 [==============================] - 0s 10ms/step - loss: 0.1819 - accuracy: 0.9187 - val_loss: 0.3568 - val_accuracy: 0.7750\n",
      "Epoch 34/100\n",
      "5/5 [==============================] - 0s 10ms/step - loss: 0.1809 - accuracy: 0.9375 - val_loss: 0.3653 - val_accuracy: 0.7500\n",
      "Epoch 35/100\n",
      "5/5 [==============================] - 0s 10ms/step - loss: 0.1713 - accuracy: 0.9312 - val_loss: 0.3916 - val_accuracy: 0.8000\n",
      "Epoch 36/100\n",
      "5/5 [==============================] - 0s 10ms/step - loss: 0.1759 - accuracy: 0.9250 - val_loss: 0.3489 - val_accuracy: 0.8000\n",
      "Epoch 37/100\n",
      "5/5 [==============================] - 0s 10ms/step - loss: 0.1691 - accuracy: 0.9312 - val_loss: 0.3654 - val_accuracy: 0.8000\n",
      "Epoch 38/100\n",
      "5/5 [==============================] - 0s 10ms/step - loss: 0.1625 - accuracy: 0.9375 - val_loss: 0.3546 - val_accuracy: 0.7750\n",
      "Epoch 39/100\n",
      "5/5 [==============================] - 0s 10ms/step - loss: 0.1642 - accuracy: 0.9250 - val_loss: 0.3367 - val_accuracy: 0.8250\n",
      "Epoch 40/100\n",
      "5/5 [==============================] - 0s 10ms/step - loss: 0.1598 - accuracy: 0.9312 - val_loss: 0.3626 - val_accuracy: 0.8000\n",
      "Epoch 41/100\n",
      "5/5 [==============================] - 0s 10ms/step - loss: 0.1587 - accuracy: 0.9250 - val_loss: 0.3295 - val_accuracy: 0.8500\n",
      "Epoch 42/100\n",
      "5/5 [==============================] - 0s 11ms/step - loss: 0.1574 - accuracy: 0.9438 - val_loss: 0.3204 - val_accuracy: 0.8750\n",
      "Epoch 43/100\n",
      "5/5 [==============================] - 0s 10ms/step - loss: 0.1527 - accuracy: 0.9438 - val_loss: 0.3653 - val_accuracy: 0.8000\n",
      "Epoch 44/100\n",
      "5/5 [==============================] - 0s 10ms/step - loss: 0.1521 - accuracy: 0.9312 - val_loss: 0.3206 - val_accuracy: 0.8500\n",
      "Epoch 45/100\n",
      "5/5 [==============================] - 0s 12ms/step - loss: 0.1467 - accuracy: 0.9563 - val_loss: 0.3218 - val_accuracy: 0.8500\n",
      "Epoch 46/100\n",
      "5/5 [==============================] - 0s 10ms/step - loss: 0.1483 - accuracy: 0.9375 - val_loss: 0.3299 - val_accuracy: 0.8250\n",
      "Epoch 47/100\n",
      "5/5 [==============================] - 0s 11ms/step - loss: 0.1420 - accuracy: 0.9563 - val_loss: 0.3070 - val_accuracy: 0.8750\n",
      "Epoch 48/100\n",
      "5/5 [==============================] - 0s 11ms/step - loss: 0.1418 - accuracy: 0.9625 - val_loss: 0.3139 - val_accuracy: 0.8500\n",
      "Epoch 49/100\n",
      "5/5 [==============================] - 0s 16ms/step - loss: 0.1378 - accuracy: 0.9500 - val_loss: 0.3365 - val_accuracy: 0.8250\n",
      "Epoch 50/100\n",
      "5/5 [==============================] - 0s 12ms/step - loss: 0.1493 - accuracy: 0.9312 - val_loss: 0.3012 - val_accuracy: 0.8750\n",
      "Epoch 51/100\n",
      "5/5 [==============================] - 0s 10ms/step - loss: 0.1334 - accuracy: 0.9625 - val_loss: 0.3223 - val_accuracy: 0.8750\n",
      "Epoch 52/100\n",
      "5/5 [==============================] - 0s 10ms/step - loss: 0.1349 - accuracy: 0.9312 - val_loss: 0.3171 - val_accuracy: 0.8500\n",
      "Epoch 53/100\n",
      "5/5 [==============================] - 0s 10ms/step - loss: 0.1332 - accuracy: 0.9625 - val_loss: 0.2848 - val_accuracy: 0.8750\n",
      "Epoch 54/100\n",
      "5/5 [==============================] - 0s 10ms/step - loss: 0.1384 - accuracy: 0.9500 - val_loss: 0.3097 - val_accuracy: 0.8750\n",
      "Epoch 55/100\n",
      "5/5 [==============================] - 0s 10ms/step - loss: 0.1278 - accuracy: 0.9688 - val_loss: 0.2834 - val_accuracy: 0.8500\n",
      "Epoch 56/100\n",
      "5/5 [==============================] - 0s 10ms/step - loss: 0.1303 - accuracy: 0.9563 - val_loss: 0.2877 - val_accuracy: 0.8750\n",
      "Epoch 57/100\n",
      "5/5 [==============================] - 0s 10ms/step - loss: 0.1270 - accuracy: 0.9563 - val_loss: 0.2807 - val_accuracy: 0.8500\n",
      "Epoch 58/100\n",
      "5/5 [==============================] - 0s 11ms/step - loss: 0.1241 - accuracy: 0.9688 - val_loss: 0.3001 - val_accuracy: 0.8750\n",
      "Epoch 59/100\n",
      "5/5 [==============================] - 0s 10ms/step - loss: 0.1244 - accuracy: 0.9625 - val_loss: 0.2768 - val_accuracy: 0.8750\n",
      "Epoch 60/100\n",
      "5/5 [==============================] - 0s 10ms/step - loss: 0.1236 - accuracy: 0.9750 - val_loss: 0.2922 - val_accuracy: 0.8750\n",
      "Epoch 61/100\n",
      "5/5 [==============================] - 0s 10ms/step - loss: 0.1198 - accuracy: 0.9625 - val_loss: 0.2791 - val_accuracy: 0.8750\n",
      "Epoch 62/100\n",
      "5/5 [==============================] - 0s 10ms/step - loss: 0.1186 - accuracy: 0.9750 - val_loss: 0.2664 - val_accuracy: 0.8750\n",
      "Epoch 63/100\n",
      "5/5 [==============================] - 0s 10ms/step - loss: 0.1184 - accuracy: 0.9688 - val_loss: 0.2932 - val_accuracy: 0.8750\n",
      "Epoch 64/100\n",
      "5/5 [==============================] - 0s 11ms/step - loss: 0.1206 - accuracy: 0.9563 - val_loss: 0.2789 - val_accuracy: 0.9000\n",
      "Epoch 65/100\n",
      "5/5 [==============================] - 0s 10ms/step - loss: 0.1257 - accuracy: 0.9688 - val_loss: 0.2635 - val_accuracy: 0.8750\n",
      "Epoch 66/100\n",
      "5/5 [==============================] - 0s 11ms/step - loss: 0.1301 - accuracy: 0.9500 - val_loss: 0.3245 - val_accuracy: 0.8750\n",
      "Epoch 67/100\n",
      "5/5 [==============================] - 0s 11ms/step - loss: 0.1136 - accuracy: 0.9563 - val_loss: 0.2518 - val_accuracy: 0.8750\n",
      "Epoch 68/100\n",
      "5/5 [==============================] - 0s 11ms/step - loss: 0.1140 - accuracy: 0.9688 - val_loss: 0.2610 - val_accuracy: 0.8750\n",
      "Epoch 69/100\n",
      "5/5 [==============================] - 0s 11ms/step - loss: 0.1102 - accuracy: 0.9750 - val_loss: 0.2668 - val_accuracy: 0.8750\n",
      "Epoch 70/100\n",
      "5/5 [==============================] - 0s 11ms/step - loss: 0.1115 - accuracy: 0.9688 - val_loss: 0.2709 - val_accuracy: 0.9000\n",
      "Epoch 71/100\n",
      "5/5 [==============================] - 0s 10ms/step - loss: 0.1102 - accuracy: 0.9750 - val_loss: 0.2433 - val_accuracy: 0.8750\n",
      "Epoch 72/100\n",
      "5/5 [==============================] - 0s 10ms/step - loss: 0.1080 - accuracy: 0.9750 - val_loss: 0.2690 - val_accuracy: 0.8500\n",
      "Epoch 73/100\n",
      "5/5 [==============================] - 0s 10ms/step - loss: 0.1096 - accuracy: 0.9688 - val_loss: 0.2546 - val_accuracy: 0.9000\n",
      "Epoch 74/100\n",
      "5/5 [==============================] - 0s 10ms/step - loss: 0.1070 - accuracy: 0.9688 - val_loss: 0.2415 - val_accuracy: 0.9000\n",
      "Epoch 75/100\n",
      "5/5 [==============================] - 0s 10ms/step - loss: 0.1025 - accuracy: 0.9750 - val_loss: 0.2596 - val_accuracy: 0.9000\n",
      "Epoch 76/100\n",
      "5/5 [==============================] - 0s 10ms/step - loss: 0.1032 - accuracy: 0.9688 - val_loss: 0.2411 - val_accuracy: 0.9000\n",
      "Epoch 77/100\n",
      "5/5 [==============================] - 0s 10ms/step - loss: 0.1028 - accuracy: 0.9812 - val_loss: 0.2414 - val_accuracy: 0.8500\n",
      "Epoch 78/100\n",
      "5/5 [==============================] - 0s 10ms/step - loss: 0.0973 - accuracy: 0.9812 - val_loss: 0.2486 - val_accuracy: 0.9000\n",
      "Epoch 79/100\n",
      "5/5 [==============================] - 0s 10ms/step - loss: 0.0990 - accuracy: 0.9688 - val_loss: 0.2382 - val_accuracy: 0.9000\n",
      "Epoch 80/100\n",
      "5/5 [==============================] - 0s 10ms/step - loss: 0.0965 - accuracy: 0.9688 - val_loss: 0.2225 - val_accuracy: 0.9000\n",
      "Epoch 81/100\n",
      "5/5 [==============================] - 0s 10ms/step - loss: 0.0990 - accuracy: 0.9812 - val_loss: 0.2327 - val_accuracy: 0.8500\n",
      "Epoch 82/100\n",
      "5/5 [==============================] - 0s 10ms/step - loss: 0.0955 - accuracy: 0.9812 - val_loss: 0.2221 - val_accuracy: 0.9000\n",
      "Epoch 83/100\n",
      "5/5 [==============================] - 0s 10ms/step - loss: 0.0952 - accuracy: 0.9812 - val_loss: 0.2230 - val_accuracy: 0.9000\n",
      "Epoch 84/100\n",
      "5/5 [==============================] - 0s 10ms/step - loss: 0.0943 - accuracy: 0.9750 - val_loss: 0.2317 - val_accuracy: 0.9000\n",
      "Epoch 85/100\n",
      "5/5 [==============================] - 0s 11ms/step - loss: 0.0976 - accuracy: 0.9750 - val_loss: 0.2232 - val_accuracy: 0.8500\n",
      "Epoch 86/100\n",
      "5/5 [==============================] - 0s 11ms/step - loss: 0.0943 - accuracy: 0.9688 - val_loss: 0.2237 - val_accuracy: 0.9000\n",
      "Epoch 87/100\n",
      "5/5 [==============================] - 0s 11ms/step - loss: 0.0921 - accuracy: 0.9750 - val_loss: 0.2180 - val_accuracy: 0.9000\n",
      "Epoch 88/100\n",
      "5/5 [==============================] - 0s 11ms/step - loss: 0.0927 - accuracy: 0.9750 - val_loss: 0.2028 - val_accuracy: 0.9000\n",
      "Epoch 89/100\n",
      "5/5 [==============================] - 0s 10ms/step - loss: 0.0939 - accuracy: 0.9875 - val_loss: 0.2316 - val_accuracy: 0.8750\n",
      "Epoch 90/100\n",
      "5/5 [==============================] - 0s 10ms/step - loss: 0.0927 - accuracy: 0.9750 - val_loss: 0.2209 - val_accuracy: 0.9000\n",
      "Epoch 91/100\n",
      "5/5 [==============================] - 0s 11ms/step - loss: 0.0874 - accuracy: 0.9812 - val_loss: 0.1995 - val_accuracy: 0.9000\n",
      "Epoch 92/100\n",
      "5/5 [==============================] - 0s 10ms/step - loss: 0.0869 - accuracy: 0.9812 - val_loss: 0.2038 - val_accuracy: 0.9000\n",
      "Epoch 93/100\n",
      "5/5 [==============================] - 0s 10ms/step - loss: 0.0864 - accuracy: 0.9812 - val_loss: 0.2086 - val_accuracy: 0.9000\n",
      "Epoch 94/100\n",
      "5/5 [==============================] - 0s 10ms/step - loss: 0.0855 - accuracy: 0.9812 - val_loss: 0.1973 - val_accuracy: 0.9250\n",
      "Epoch 95/100\n",
      "5/5 [==============================] - 0s 10ms/step - loss: 0.0870 - accuracy: 0.9750 - val_loss: 0.1966 - val_accuracy: 0.9000\n",
      "Epoch 96/100\n",
      "5/5 [==============================] - 0s 11ms/step - loss: 0.0846 - accuracy: 0.9875 - val_loss: 0.2044 - val_accuracy: 0.9500\n",
      "Epoch 97/100\n",
      "5/5 [==============================] - 0s 11ms/step - loss: 0.0859 - accuracy: 0.9812 - val_loss: 0.2152 - val_accuracy: 0.9250\n",
      "Epoch 98/100\n",
      "5/5 [==============================] - 0s 10ms/step - loss: 0.0834 - accuracy: 0.9750 - val_loss: 0.1826 - val_accuracy: 0.9250\n",
      "Epoch 99/100\n",
      "5/5 [==============================] - 0s 10ms/step - loss: 0.0841 - accuracy: 0.9812 - val_loss: 0.1840 - val_accuracy: 0.9250\n",
      "Epoch 100/100\n",
      "5/5 [==============================] - 0s 11ms/step - loss: 0.0840 - accuracy: 0.9812 - val_loss: 0.2117 - val_accuracy: 0.9250\n"
     ]
    }
   ],
   "source": [
    "from sklearn.model_selection import train_test_split\n",
    "\n",
    "# Split Training and Testing Dataset\n",
    "X_train, X_test, y_train, y_test = train_test_split(X, y, test_size=0.2, \n",
    "                                                    random_state=42)\n",
    "# Build a model structure\n",
    "model = tf.keras.models.Sequential([\n",
    "    tf.keras.layers.Dense(16, input_shape=[3], activation='relu'),\n",
    "    tf.keras.layers.Dense(32, activation='relu'),\n",
    "    tf.keras.layers.Dense(64, activation='relu'),\n",
    "    tf.keras.layers.Dense(1, activation='sigmoid')\n",
    "])\n",
    "\n",
    "model.compile(optimizer=tf.keras.optimizers.Adam(), \n",
    "             loss='binary_crossentropy',\n",
    "             metrics=['accuracy'])\n",
    "\n",
    "history = model.fit(X_train, y_train, validation_data=(X_test, y_test), epochs=100)"
   ]
  },
  {
   "cell_type": "code",
   "execution_count": 11,
   "id": "eb138c2a",
   "metadata": {
    "execution": {
     "iopub.execute_input": "2022-05-28T10:06:31.820163Z",
     "iopub.status.busy": "2022-05-28T10:06:31.819753Z",
     "iopub.status.idle": "2022-05-28T10:06:31.830602Z",
     "shell.execute_reply": "2022-05-28T10:06:31.829709Z"
    },
    "papermill": {
     "duration": 0.033898,
     "end_time": "2022-05-28T10:06:31.832535",
     "exception": false,
     "start_time": "2022-05-28T10:06:31.798637",
     "status": "completed"
    },
    "tags": []
   },
   "outputs": [],
   "source": [
    "second_11_labels = data['label'].unique()[10:]\n",
    "\n",
    "def model(data, labels):\n",
    "    for label in labels:\n",
    "        # Initiate data\n",
    "        crop_data = take_200(data, label)\n",
    "        \n",
    "        # Initiate variables\n",
    "        X = crop_data\n",
    "        y = X.pop('label')\n",
    "        \n",
    "        # Split Training and Testing Dataset\n",
    "        X_train, X_test, y_train, y_test = train_test_split(X, y, test_size=0.2, \n",
    "                                                            random_state=42)\n",
    "        \n",
    "        # Initiate a model structure\n",
    "        model = tf.keras.models.Sequential([\n",
    "            tf.keras.layers.Dense(64, input_shape=[3], activation='relu'),\n",
    "            tf.keras.layers.Dense(64, activation='relu'),\n",
    "            #tf.keras.layers.Dense(64, activation='relu'),\n",
    "            tf.keras.layers.Dense(1, activation='sigmoid')\n",
    "        ])\n",
    "        \n",
    "        model.compile(optimizer=tf.keras.optimizers.Adam(), \n",
    "             loss='binary_crossentropy',\n",
    "             metrics=['accuracy'])\n",
    "        \n",
    "        # Fitting the Modek\n",
    "        history = model.fit(X_train, y_train, validation_data=(X_test, y_test), epochs=100, verbose=0)\n",
    "        \n",
    "        print('{} model => Accuracy: {} & Validation Accuracy: {}\\n'.format(label.capitalize(), history.history['accuracy'][-1], \n",
    "                                                                          history.history['val_accuracy'][-1]))"
   ]
  },
  {
   "cell_type": "code",
   "execution_count": 12,
   "id": "8f5d16a2",
   "metadata": {
    "execution": {
     "iopub.execute_input": "2022-05-28T10:06:31.874140Z",
     "iopub.status.busy": "2022-05-28T10:06:31.873726Z",
     "iopub.status.idle": "2022-05-28T10:07:31.714692Z",
     "shell.execute_reply": "2022-05-28T10:07:31.713673Z"
    },
    "papermill": {
     "duration": 59.864526,
     "end_time": "2022-05-28T10:07:31.717113",
     "exception": false,
     "start_time": "2022-05-28T10:06:31.852587",
     "status": "completed"
    },
    "tags": []
   },
   "outputs": [
    {
     "name": "stdout",
     "output_type": "stream",
     "text": [
      "Banana model => Accuracy: 0.9750000238418579 & Validation Accuracy: 1.0\n",
      "\n",
      "Mango model => Accuracy: 1.0 & Validation Accuracy: 1.0\n",
      "\n",
      "Grapes model => Accuracy: 0.9624999761581421 & Validation Accuracy: 1.0\n",
      "\n",
      "Watermelon model => Accuracy: 0.96875 & Validation Accuracy: 1.0\n",
      "\n",
      "Muskmelon model => Accuracy: 1.0 & Validation Accuracy: 1.0\n",
      "\n",
      "Apple model => Accuracy: 0.925000011920929 & Validation Accuracy: 0.925000011920929\n",
      "\n",
      "Orange model => Accuracy: 0.8812500238418579 & Validation Accuracy: 0.9750000238418579\n",
      "\n",
      "Papaya model => Accuracy: 0.7124999761581421 & Validation Accuracy: 0.75\n",
      "\n",
      "Coconut model => Accuracy: 0.949999988079071 & Validation Accuracy: 0.925000011920929\n",
      "\n",
      "Cotton model => Accuracy: 0.9624999761581421 & Validation Accuracy: 0.8999999761581421\n",
      "\n",
      "Jute model => Accuracy: 0.949999988079071 & Validation Accuracy: 0.949999988079071\n",
      "\n",
      "Coffee model => Accuracy: 0.96875 & Validation Accuracy: 0.9750000238418579\n",
      "\n"
     ]
    }
   ],
   "source": [
    "model(data, second_11_labels)"
   ]
  },
  {
   "cell_type": "code",
   "execution_count": null,
   "id": "cf303491",
   "metadata": {
    "papermill": {
     "duration": 0.020386,
     "end_time": "2022-05-28T10:07:31.758848",
     "exception": false,
     "start_time": "2022-05-28T10:07:31.738462",
     "status": "completed"
    },
    "tags": []
   },
   "outputs": [],
   "source": []
  }
 ],
 "metadata": {
  "kernelspec": {
   "display_name": "Python 3",
   "language": "python",
   "name": "python3"
  },
  "language_info": {
   "codemirror_mode": {
    "name": "ipython",
    "version": 3
   },
   "file_extension": ".py",
   "mimetype": "text/x-python",
   "name": "python",
   "nbconvert_exporter": "python",
   "pygments_lexer": "ipython3",
   "version": "3.7.12"
  },
  "papermill": {
   "default_parameters": {},
   "duration": 86.614963,
   "end_time": "2022-05-28T10:07:34.991776",
   "environment_variables": {},
   "exception": null,
   "input_path": "__notebook__.ipynb",
   "output_path": "__notebook__.ipynb",
   "parameters": {},
   "start_time": "2022-05-28T10:06:08.376813",
   "version": "2.3.4"
  }
 },
 "nbformat": 4,
 "nbformat_minor": 5
}

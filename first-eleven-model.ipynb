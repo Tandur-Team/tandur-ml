{
  "cells": [
    {
      "cell_type": "code",
      "execution_count": 5,
      "id": "cb134825",
      "metadata": {
        "_cell_guid": "b1076dfc-b9ad-4769-8c92-a6c4dae69d19",
        "_uuid": "8f2839f25d086af736a60e9eeb907d3b93b6e0e5",
        "execution": {
          "iopub.execute_input": "2022-05-18T04:51:25.665393Z",
          "iopub.status.busy": "2022-05-18T04:51:25.664737Z",
          "iopub.status.idle": "2022-05-18T04:51:34.165428Z",
          "shell.execute_reply": "2022-05-18T04:51:34.164470Z"
        },
        "papermill": {
          "duration": 8.540939,
          "end_time": "2022-05-18T04:51:34.168034",
          "exception": false,
          "start_time": "2022-05-18T04:51:25.627095",
          "status": "completed"
        },
        "tags": [],
        "id": "cb134825"
      },
      "outputs": [],
      "source": [
        "import numpy as np \n",
        "import pandas as pd\n",
        "import seaborn as sns\n",
        "import matplotlib.pyplot as plt\n",
        "import tensorflow as tf\n",
        "from tensorflow.keras.models import Sequential\n",
        "from tensorflow.keras.layers import Dense, Activation, Flatten, Dropout\n",
        "from tensorflow.keras.activations import relu, tanh, sigmoid, softmax\n",
        "from sklearn.model_selection import train_test_split\n",
        "import pathlib"
      ]
    },
    {
      "cell_type": "code",
      "execution_count": 6,
      "id": "c7eb4828",
      "metadata": {
        "execution": {
          "iopub.execute_input": "2022-05-18T04:51:34.242482Z",
          "iopub.status.busy": "2022-05-18T04:51:34.242179Z",
          "iopub.status.idle": "2022-05-18T04:51:34.288239Z",
          "shell.execute_reply": "2022-05-18T04:51:34.287603Z"
        },
        "papermill": {
          "duration": 0.086256,
          "end_time": "2022-05-18T04:51:34.290583",
          "exception": false,
          "start_time": "2022-05-18T04:51:34.204327",
          "status": "completed"
        },
        "tags": [],
        "colab": {
          "base_uri": "https://localhost:8080/",
          "height": 206
        },
        "id": "c7eb4828",
        "outputId": "9ec81aef-1b63-4ba6-ccae-280ec8606873"
      },
      "outputs": [
        {
          "output_type": "execute_result",
          "data": {
            "text/plain": [
              "   temperature   humidity    rainfall label\n",
              "0    20.879744  82.002744  202.935536  rice\n",
              "1    21.770462  80.319644  226.655537  rice\n",
              "2    23.004459  82.320763  263.964248  rice\n",
              "3    26.491096  80.158363  242.864034  rice\n",
              "4    20.130175  81.604873  262.717340  rice"
            ],
            "text/html": [
              "\n",
              "  <div id=\"df-fc47df1a-3bd9-4506-9ad6-8b7aa4f0010a\">\n",
              "    <div class=\"colab-df-container\">\n",
              "      <div>\n",
              "<style scoped>\n",
              "    .dataframe tbody tr th:only-of-type {\n",
              "        vertical-align: middle;\n",
              "    }\n",
              "\n",
              "    .dataframe tbody tr th {\n",
              "        vertical-align: top;\n",
              "    }\n",
              "\n",
              "    .dataframe thead th {\n",
              "        text-align: right;\n",
              "    }\n",
              "</style>\n",
              "<table border=\"1\" class=\"dataframe\">\n",
              "  <thead>\n",
              "    <tr style=\"text-align: right;\">\n",
              "      <th></th>\n",
              "      <th>temperature</th>\n",
              "      <th>humidity</th>\n",
              "      <th>rainfall</th>\n",
              "      <th>label</th>\n",
              "    </tr>\n",
              "  </thead>\n",
              "  <tbody>\n",
              "    <tr>\n",
              "      <th>0</th>\n",
              "      <td>20.879744</td>\n",
              "      <td>82.002744</td>\n",
              "      <td>202.935536</td>\n",
              "      <td>rice</td>\n",
              "    </tr>\n",
              "    <tr>\n",
              "      <th>1</th>\n",
              "      <td>21.770462</td>\n",
              "      <td>80.319644</td>\n",
              "      <td>226.655537</td>\n",
              "      <td>rice</td>\n",
              "    </tr>\n",
              "    <tr>\n",
              "      <th>2</th>\n",
              "      <td>23.004459</td>\n",
              "      <td>82.320763</td>\n",
              "      <td>263.964248</td>\n",
              "      <td>rice</td>\n",
              "    </tr>\n",
              "    <tr>\n",
              "      <th>3</th>\n",
              "      <td>26.491096</td>\n",
              "      <td>80.158363</td>\n",
              "      <td>242.864034</td>\n",
              "      <td>rice</td>\n",
              "    </tr>\n",
              "    <tr>\n",
              "      <th>4</th>\n",
              "      <td>20.130175</td>\n",
              "      <td>81.604873</td>\n",
              "      <td>262.717340</td>\n",
              "      <td>rice</td>\n",
              "    </tr>\n",
              "  </tbody>\n",
              "</table>\n",
              "</div>\n",
              "      <button class=\"colab-df-convert\" onclick=\"convertToInteractive('df-fc47df1a-3bd9-4506-9ad6-8b7aa4f0010a')\"\n",
              "              title=\"Convert this dataframe to an interactive table.\"\n",
              "              style=\"display:none;\">\n",
              "        \n",
              "  <svg xmlns=\"http://www.w3.org/2000/svg\" height=\"24px\"viewBox=\"0 0 24 24\"\n",
              "       width=\"24px\">\n",
              "    <path d=\"M0 0h24v24H0V0z\" fill=\"none\"/>\n",
              "    <path d=\"M18.56 5.44l.94 2.06.94-2.06 2.06-.94-2.06-.94-.94-2.06-.94 2.06-2.06.94zm-11 1L8.5 8.5l.94-2.06 2.06-.94-2.06-.94L8.5 2.5l-.94 2.06-2.06.94zm10 10l.94 2.06.94-2.06 2.06-.94-2.06-.94-.94-2.06-.94 2.06-2.06.94z\"/><path d=\"M17.41 7.96l-1.37-1.37c-.4-.4-.92-.59-1.43-.59-.52 0-1.04.2-1.43.59L10.3 9.45l-7.72 7.72c-.78.78-.78 2.05 0 2.83L4 21.41c.39.39.9.59 1.41.59.51 0 1.02-.2 1.41-.59l7.78-7.78 2.81-2.81c.8-.78.8-2.07 0-2.86zM5.41 20L4 18.59l7.72-7.72 1.47 1.35L5.41 20z\"/>\n",
              "  </svg>\n",
              "      </button>\n",
              "      \n",
              "  <style>\n",
              "    .colab-df-container {\n",
              "      display:flex;\n",
              "      flex-wrap:wrap;\n",
              "      gap: 12px;\n",
              "    }\n",
              "\n",
              "    .colab-df-convert {\n",
              "      background-color: #E8F0FE;\n",
              "      border: none;\n",
              "      border-radius: 50%;\n",
              "      cursor: pointer;\n",
              "      display: none;\n",
              "      fill: #1967D2;\n",
              "      height: 32px;\n",
              "      padding: 0 0 0 0;\n",
              "      width: 32px;\n",
              "    }\n",
              "\n",
              "    .colab-df-convert:hover {\n",
              "      background-color: #E2EBFA;\n",
              "      box-shadow: 0px 1px 2px rgba(60, 64, 67, 0.3), 0px 1px 3px 1px rgba(60, 64, 67, 0.15);\n",
              "      fill: #174EA6;\n",
              "    }\n",
              "\n",
              "    [theme=dark] .colab-df-convert {\n",
              "      background-color: #3B4455;\n",
              "      fill: #D2E3FC;\n",
              "    }\n",
              "\n",
              "    [theme=dark] .colab-df-convert:hover {\n",
              "      background-color: #434B5C;\n",
              "      box-shadow: 0px 1px 3px 1px rgba(0, 0, 0, 0.15);\n",
              "      filter: drop-shadow(0px 1px 2px rgba(0, 0, 0, 0.3));\n",
              "      fill: #FFFFFF;\n",
              "    }\n",
              "  </style>\n",
              "\n",
              "      <script>\n",
              "        const buttonEl =\n",
              "          document.querySelector('#df-fc47df1a-3bd9-4506-9ad6-8b7aa4f0010a button.colab-df-convert');\n",
              "        buttonEl.style.display =\n",
              "          google.colab.kernel.accessAllowed ? 'block' : 'none';\n",
              "\n",
              "        async function convertToInteractive(key) {\n",
              "          const element = document.querySelector('#df-fc47df1a-3bd9-4506-9ad6-8b7aa4f0010a');\n",
              "          const dataTable =\n",
              "            await google.colab.kernel.invokeFunction('convertToInteractive',\n",
              "                                                     [key], {});\n",
              "          if (!dataTable) return;\n",
              "\n",
              "          const docLinkHtml = 'Like what you see? Visit the ' +\n",
              "            '<a target=\"_blank\" href=https://colab.research.google.com/notebooks/data_table.ipynb>data table notebook</a>'\n",
              "            + ' to learn more about interactive tables.';\n",
              "          element.innerHTML = '';\n",
              "          dataTable['output_type'] = 'display_data';\n",
              "          await google.colab.output.renderOutput(dataTable, element);\n",
              "          const docLink = document.createElement('div');\n",
              "          docLink.innerHTML = docLinkHtml;\n",
              "          element.appendChild(docLink);\n",
              "        }\n",
              "      </script>\n",
              "    </div>\n",
              "  </div>\n",
              "  "
            ]
          },
          "metadata": {},
          "execution_count": 6
        }
      ],
      "source": [
        "crop_data = pd.read_csv('/tmp/Crop_recommendation.csv')\n",
        "crop_data.drop(['N', 'P', 'K', 'ph'], axis=1, inplace=True)\n",
        "crop_data.head()"
      ]
    },
    {
      "cell_type": "markdown",
      "source": [
        "# Data Preprocessing"
      ],
      "metadata": {
        "id": "0w7GGF53mAiV"
      },
      "id": "0w7GGF53mAiV"
    },
    {
      "cell_type": "code",
      "execution_count": 7,
      "id": "3ae78c48",
      "metadata": {
        "execution": {
          "iopub.execute_input": "2022-05-18T04:51:34.496013Z",
          "iopub.status.busy": "2022-05-18T04:51:34.495382Z",
          "iopub.status.idle": "2022-05-18T04:51:34.502938Z",
          "shell.execute_reply": "2022-05-18T04:51:34.502048Z"
        },
        "papermill": {
          "duration": 0.047997,
          "end_time": "2022-05-18T04:51:34.505068",
          "exception": false,
          "start_time": "2022-05-18T04:51:34.457071",
          "status": "completed"
        },
        "tags": [],
        "id": "3ae78c48"
      },
      "outputs": [],
      "source": [
        "# Take the first eleven labels\n",
        "first_11_labels = crop_data['label'].unique()[:11]"
      ]
    },
    {
      "cell_type": "code",
      "source": [
        "# Encode the labels to form 0 and 1\n",
        "def encode_label(data, label):\n",
        "    if data['label'] == label:\n",
        "        data['label'] = 1\n",
        "    else:\n",
        "        data['label'] = 0\n",
        "    return data\n",
        "\n",
        "# Take 200 data from original dataset\n",
        "def take_200(data, label):\n",
        "    \n",
        "    # Data for particular label\n",
        "    specific_data = data[data['label'] == label]\n",
        "    \n",
        "    n = len(specific_data)\n",
        "    \n",
        "    # Data for beside particular label\n",
        "    beside_data = data[data['label'] != label].sample(n)\n",
        "    \n",
        "    # Combine specific_data and beside_data\n",
        "    combined_data = pd.concat([specific_data, beside_data])\n",
        "    \n",
        "    # Apply combined_data to convert_label function\n",
        "    new_data = combined_data.apply(encode_label, label=label, axis=1)\n",
        "    \n",
        "    # Reset index and shuffle\n",
        "    return new_data.sample(frac=1).reset_index(drop=True)"
      ],
      "metadata": {
        "id": "xE20OwQGmL7j"
      },
      "id": "xE20OwQGmL7j",
      "execution_count": 8,
      "outputs": []
    },
    {
      "cell_type": "code",
      "source": [
        "print('First 5 observations of data: \\n')\n",
        "take_200(crop_data, 'papaya').head(5)"
      ],
      "metadata": {
        "colab": {
          "base_uri": "https://localhost:8080/",
          "height": 241
        },
        "id": "ZJ1Zy2-8njLa",
        "outputId": "6f3b8135-ea9e-40cd-92b4-377f1ce54dfe"
      },
      "id": "ZJ1Zy2-8njLa",
      "execution_count": 9,
      "outputs": [
        {
          "output_type": "stream",
          "name": "stdout",
          "text": [
            "First 5 observations of data: \n",
            "\n"
          ]
        },
        {
          "output_type": "execute_result",
          "data": {
            "text/plain": [
              "   temperature   humidity    rainfall  label\n",
              "0    35.893075  82.668507   66.539466      0\n",
              "1    24.872121  93.905601  135.169452      1\n",
              "2    43.080227  93.903057  211.852906      1\n",
              "3    21.377847  92.720437  106.141702      0\n",
              "4    18.397591  36.826393   93.123306      0"
            ],
            "text/html": [
              "\n",
              "  <div id=\"df-bd3068cf-5749-4029-9762-0bbae9a86c52\">\n",
              "    <div class=\"colab-df-container\">\n",
              "      <div>\n",
              "<style scoped>\n",
              "    .dataframe tbody tr th:only-of-type {\n",
              "        vertical-align: middle;\n",
              "    }\n",
              "\n",
              "    .dataframe tbody tr th {\n",
              "        vertical-align: top;\n",
              "    }\n",
              "\n",
              "    .dataframe thead th {\n",
              "        text-align: right;\n",
              "    }\n",
              "</style>\n",
              "<table border=\"1\" class=\"dataframe\">\n",
              "  <thead>\n",
              "    <tr style=\"text-align: right;\">\n",
              "      <th></th>\n",
              "      <th>temperature</th>\n",
              "      <th>humidity</th>\n",
              "      <th>rainfall</th>\n",
              "      <th>label</th>\n",
              "    </tr>\n",
              "  </thead>\n",
              "  <tbody>\n",
              "    <tr>\n",
              "      <th>0</th>\n",
              "      <td>35.893075</td>\n",
              "      <td>82.668507</td>\n",
              "      <td>66.539466</td>\n",
              "      <td>0</td>\n",
              "    </tr>\n",
              "    <tr>\n",
              "      <th>1</th>\n",
              "      <td>24.872121</td>\n",
              "      <td>93.905601</td>\n",
              "      <td>135.169452</td>\n",
              "      <td>1</td>\n",
              "    </tr>\n",
              "    <tr>\n",
              "      <th>2</th>\n",
              "      <td>43.080227</td>\n",
              "      <td>93.903057</td>\n",
              "      <td>211.852906</td>\n",
              "      <td>1</td>\n",
              "    </tr>\n",
              "    <tr>\n",
              "      <th>3</th>\n",
              "      <td>21.377847</td>\n",
              "      <td>92.720437</td>\n",
              "      <td>106.141702</td>\n",
              "      <td>0</td>\n",
              "    </tr>\n",
              "    <tr>\n",
              "      <th>4</th>\n",
              "      <td>18.397591</td>\n",
              "      <td>36.826393</td>\n",
              "      <td>93.123306</td>\n",
              "      <td>0</td>\n",
              "    </tr>\n",
              "  </tbody>\n",
              "</table>\n",
              "</div>\n",
              "      <button class=\"colab-df-convert\" onclick=\"convertToInteractive('df-bd3068cf-5749-4029-9762-0bbae9a86c52')\"\n",
              "              title=\"Convert this dataframe to an interactive table.\"\n",
              "              style=\"display:none;\">\n",
              "        \n",
              "  <svg xmlns=\"http://www.w3.org/2000/svg\" height=\"24px\"viewBox=\"0 0 24 24\"\n",
              "       width=\"24px\">\n",
              "    <path d=\"M0 0h24v24H0V0z\" fill=\"none\"/>\n",
              "    <path d=\"M18.56 5.44l.94 2.06.94-2.06 2.06-.94-2.06-.94-.94-2.06-.94 2.06-2.06.94zm-11 1L8.5 8.5l.94-2.06 2.06-.94-2.06-.94L8.5 2.5l-.94 2.06-2.06.94zm10 10l.94 2.06.94-2.06 2.06-.94-2.06-.94-.94-2.06-.94 2.06-2.06.94z\"/><path d=\"M17.41 7.96l-1.37-1.37c-.4-.4-.92-.59-1.43-.59-.52 0-1.04.2-1.43.59L10.3 9.45l-7.72 7.72c-.78.78-.78 2.05 0 2.83L4 21.41c.39.39.9.59 1.41.59.51 0 1.02-.2 1.41-.59l7.78-7.78 2.81-2.81c.8-.78.8-2.07 0-2.86zM5.41 20L4 18.59l7.72-7.72 1.47 1.35L5.41 20z\"/>\n",
              "  </svg>\n",
              "      </button>\n",
              "      \n",
              "  <style>\n",
              "    .colab-df-container {\n",
              "      display:flex;\n",
              "      flex-wrap:wrap;\n",
              "      gap: 12px;\n",
              "    }\n",
              "\n",
              "    .colab-df-convert {\n",
              "      background-color: #E8F0FE;\n",
              "      border: none;\n",
              "      border-radius: 50%;\n",
              "      cursor: pointer;\n",
              "      display: none;\n",
              "      fill: #1967D2;\n",
              "      height: 32px;\n",
              "      padding: 0 0 0 0;\n",
              "      width: 32px;\n",
              "    }\n",
              "\n",
              "    .colab-df-convert:hover {\n",
              "      background-color: #E2EBFA;\n",
              "      box-shadow: 0px 1px 2px rgba(60, 64, 67, 0.3), 0px 1px 3px 1px rgba(60, 64, 67, 0.15);\n",
              "      fill: #174EA6;\n",
              "    }\n",
              "\n",
              "    [theme=dark] .colab-df-convert {\n",
              "      background-color: #3B4455;\n",
              "      fill: #D2E3FC;\n",
              "    }\n",
              "\n",
              "    [theme=dark] .colab-df-convert:hover {\n",
              "      background-color: #434B5C;\n",
              "      box-shadow: 0px 1px 3px 1px rgba(0, 0, 0, 0.15);\n",
              "      filter: drop-shadow(0px 1px 2px rgba(0, 0, 0, 0.3));\n",
              "      fill: #FFFFFF;\n",
              "    }\n",
              "  </style>\n",
              "\n",
              "      <script>\n",
              "        const buttonEl =\n",
              "          document.querySelector('#df-bd3068cf-5749-4029-9762-0bbae9a86c52 button.colab-df-convert');\n",
              "        buttonEl.style.display =\n",
              "          google.colab.kernel.accessAllowed ? 'block' : 'none';\n",
              "\n",
              "        async function convertToInteractive(key) {\n",
              "          const element = document.querySelector('#df-bd3068cf-5749-4029-9762-0bbae9a86c52');\n",
              "          const dataTable =\n",
              "            await google.colab.kernel.invokeFunction('convertToInteractive',\n",
              "                                                     [key], {});\n",
              "          if (!dataTable) return;\n",
              "\n",
              "          const docLinkHtml = 'Like what you see? Visit the ' +\n",
              "            '<a target=\"_blank\" href=https://colab.research.google.com/notebooks/data_table.ipynb>data table notebook</a>'\n",
              "            + ' to learn more about interactive tables.';\n",
              "          element.innerHTML = '';\n",
              "          dataTable['output_type'] = 'display_data';\n",
              "          await google.colab.output.renderOutput(dataTable, element);\n",
              "          const docLink = document.createElement('div');\n",
              "          docLink.innerHTML = docLinkHtml;\n",
              "          element.appendChild(docLink);\n",
              "        }\n",
              "      </script>\n",
              "    </div>\n",
              "  </div>\n",
              "  "
            ]
          },
          "metadata": {},
          "execution_count": 9
        }
      ]
    },
    {
      "cell_type": "markdown",
      "id": "602bfbd8",
      "metadata": {
        "papermill": {
          "duration": 0.049839,
          "end_time": "2022-05-18T04:51:40.921298",
          "exception": false,
          "start_time": "2022-05-18T04:51:40.871459",
          "status": "completed"
        },
        "tags": [],
        "id": "602bfbd8"
      },
      "source": [
        "## Build the Model"
      ]
    },
    {
      "cell_type": "code",
      "source": [
        "from sklearn.preprocessing import StandardScaler\n",
        "\n",
        "sc = StandardScaler()"
      ],
      "metadata": {
        "id": "DcVKEUfEolgZ"
      },
      "id": "DcVKEUfEolgZ",
      "execution_count": 15,
      "outputs": []
    },
    {
      "cell_type": "code",
      "source": [
        "# Create model for every label-dataset\n",
        "def model(data, labels):\n",
        "    for label in labels:\n",
        "\n",
        "        # Initiate data\n",
        "        crop_data = take_200(data, label)\n",
        "        \n",
        "        # Initiate variables\n",
        "        X = crop_data\n",
        "        y = X.pop('label')\n",
        "        \n",
        "        # Split Training and Testing Dataset\n",
        "        X_train, X_test, y_train, y_test = train_test_split(X, y, test_size=0.2, random_state=42)\n",
        "        \n",
        "        # Perform Standard Scaling\n",
        "        X_train = sc.fit_transform(X_train)\n",
        "        X_test = sc.transform(X_test)\n",
        "\n",
        "        # Initiate a model structure\n",
        "        model = tf.keras.models.Sequential([\n",
        "            tf.keras.layers.Dense(64, input_shape=[3], activation='relu'),\n",
        "            tf.keras.layers.Dense(64, activation='relu'),\n",
        "            tf.keras.layers.Dense(1, activation='sigmoid')\n",
        "        ])\n",
        "        \n",
        "        model.compile(optimizer=tf.keras.optimizers.Adam(learning_rate=1e-3), \n",
        "             loss='binary_crossentropy',\n",
        "             metrics=['accuracy'])\n",
        "        \n",
        "        # Fitting the Model\n",
        "        history = model.fit(X_train, y_train, validation_data=(X_test, y_test), epochs=100, verbose=0)\n",
        "\n",
        "        # Save and convert the model\n",
        "        export_dir = '/tmp/model-' + label + '/'\n",
        "        tf.saved_model.save(model, export_dir=export_dir)\n",
        "\n",
        "        converter = tf.lite.TFLiteConverter.from_saved_model(export_dir)\n",
        "\n",
        "        # Set the optimzations\n",
        "        # converter.optimizations = [optimization]\n",
        "\n",
        "        tflite_model = converter.convert()\n",
        "        path = '/tmp/model-' + label + '/' + label + '-model.tflite'\n",
        "        tflite_model_file = pathlib.Path(path)\n",
        "        \n",
        "        print('{} model => Accuracy: {:.2%} & Validation Accuracy: {:.2%}\\n'.format(label.capitalize(), history.history['accuracy'][-1], \n",
        "                                                                          history.history['val_accuracy'][-1]))"
      ],
      "metadata": {
        "id": "RDiNngUgStBl"
      },
      "id": "RDiNngUgStBl",
      "execution_count": 20,
      "outputs": []
    },
    {
      "cell_type": "code",
      "source": [
        "model(crop_data, first_11_labels)"
      ],
      "metadata": {
        "colab": {
          "base_uri": "https://localhost:8080/"
        },
        "id": "_XhUJYMus64F",
        "outputId": "4dd2fcc8-622e-4b09-c4c1-10f32b67b3f4"
      },
      "id": "_XhUJYMus64F",
      "execution_count": 21,
      "outputs": [
        {
          "output_type": "stream",
          "name": "stdout",
          "text": [
            "INFO:tensorflow:Assets written to: /tmp/model-rice/assets\n"
          ]
        },
        {
          "output_type": "stream",
          "name": "stderr",
          "text": [
            "WARNING:absl:Buffer deduplication procedure will be skipped when flatbuffer library is not properly loaded\n"
          ]
        },
        {
          "output_type": "stream",
          "name": "stdout",
          "text": [
            "Rice model => Accuracy: 100.00% & Validation Accuracy: 95.00%\n",
            "\n",
            "INFO:tensorflow:Assets written to: /tmp/model-maize/assets\n"
          ]
        },
        {
          "output_type": "stream",
          "name": "stderr",
          "text": [
            "INFO:tensorflow:Assets written to: /tmp/model-maize/assets\n",
            "WARNING:absl:Buffer deduplication procedure will be skipped when flatbuffer library is not properly loaded\n"
          ]
        },
        {
          "output_type": "stream",
          "name": "stdout",
          "text": [
            "Maize model => Accuracy: 100.00% & Validation Accuracy: 97.50%\n",
            "\n",
            "INFO:tensorflow:Assets written to: /tmp/model-chickpea/assets\n"
          ]
        },
        {
          "output_type": "stream",
          "name": "stderr",
          "text": [
            "INFO:tensorflow:Assets written to: /tmp/model-chickpea/assets\n",
            "WARNING:absl:Buffer deduplication procedure will be skipped when flatbuffer library is not properly loaded\n"
          ]
        },
        {
          "output_type": "stream",
          "name": "stdout",
          "text": [
            "Chickpea model => Accuracy: 99.37% & Validation Accuracy: 97.50%\n",
            "\n",
            "INFO:tensorflow:Assets written to: /tmp/model-kidneybeans/assets\n"
          ]
        },
        {
          "output_type": "stream",
          "name": "stderr",
          "text": [
            "INFO:tensorflow:Assets written to: /tmp/model-kidneybeans/assets\n",
            "WARNING:absl:Buffer deduplication procedure will be skipped when flatbuffer library is not properly loaded\n"
          ]
        },
        {
          "output_type": "stream",
          "name": "stdout",
          "text": [
            "Kidneybeans model => Accuracy: 99.37% & Validation Accuracy: 97.50%\n",
            "\n",
            "INFO:tensorflow:Assets written to: /tmp/model-pigeonpeas/assets\n"
          ]
        },
        {
          "output_type": "stream",
          "name": "stderr",
          "text": [
            "INFO:tensorflow:Assets written to: /tmp/model-pigeonpeas/assets\n",
            "WARNING:absl:Buffer deduplication procedure will be skipped when flatbuffer library is not properly loaded\n"
          ]
        },
        {
          "output_type": "stream",
          "name": "stdout",
          "text": [
            "Pigeonpeas model => Accuracy: 93.75% & Validation Accuracy: 82.50%\n",
            "\n",
            "INFO:tensorflow:Assets written to: /tmp/model-mothbeans/assets\n"
          ]
        },
        {
          "output_type": "stream",
          "name": "stderr",
          "text": [
            "INFO:tensorflow:Assets written to: /tmp/model-mothbeans/assets\n",
            "WARNING:absl:Buffer deduplication procedure will be skipped when flatbuffer library is not properly loaded\n"
          ]
        },
        {
          "output_type": "stream",
          "name": "stdout",
          "text": [
            "Mothbeans model => Accuracy: 98.12% & Validation Accuracy: 95.00%\n",
            "\n",
            "INFO:tensorflow:Assets written to: /tmp/model-mungbean/assets\n"
          ]
        },
        {
          "output_type": "stream",
          "name": "stderr",
          "text": [
            "INFO:tensorflow:Assets written to: /tmp/model-mungbean/assets\n",
            "WARNING:absl:Buffer deduplication procedure will be skipped when flatbuffer library is not properly loaded\n"
          ]
        },
        {
          "output_type": "stream",
          "name": "stdout",
          "text": [
            "Mungbean model => Accuracy: 97.50% & Validation Accuracy: 100.00%\n",
            "\n",
            "INFO:tensorflow:Assets written to: /tmp/model-blackgram/assets\n"
          ]
        },
        {
          "output_type": "stream",
          "name": "stderr",
          "text": [
            "INFO:tensorflow:Assets written to: /tmp/model-blackgram/assets\n",
            "WARNING:absl:Buffer deduplication procedure will be skipped when flatbuffer library is not properly loaded\n"
          ]
        },
        {
          "output_type": "stream",
          "name": "stdout",
          "text": [
            "Blackgram model => Accuracy: 98.12% & Validation Accuracy: 100.00%\n",
            "\n",
            "INFO:tensorflow:Assets written to: /tmp/model-lentil/assets\n"
          ]
        },
        {
          "output_type": "stream",
          "name": "stderr",
          "text": [
            "INFO:tensorflow:Assets written to: /tmp/model-lentil/assets\n",
            "WARNING:absl:Buffer deduplication procedure will be skipped when flatbuffer library is not properly loaded\n"
          ]
        },
        {
          "output_type": "stream",
          "name": "stdout",
          "text": [
            "Lentil model => Accuracy: 98.75% & Validation Accuracy: 100.00%\n",
            "\n",
            "INFO:tensorflow:Assets written to: /tmp/model-pomegranate/assets\n"
          ]
        },
        {
          "output_type": "stream",
          "name": "stderr",
          "text": [
            "INFO:tensorflow:Assets written to: /tmp/model-pomegranate/assets\n",
            "WARNING:absl:Buffer deduplication procedure will be skipped when flatbuffer library is not properly loaded\n"
          ]
        },
        {
          "output_type": "stream",
          "name": "stdout",
          "text": [
            "Pomegranate model => Accuracy: 95.63% & Validation Accuracy: 95.00%\n",
            "\n",
            "INFO:tensorflow:Assets written to: /tmp/model-banana/assets\n"
          ]
        },
        {
          "output_type": "stream",
          "name": "stderr",
          "text": [
            "INFO:tensorflow:Assets written to: /tmp/model-banana/assets\n",
            "WARNING:absl:Buffer deduplication procedure will be skipped when flatbuffer library is not properly loaded\n"
          ]
        },
        {
          "output_type": "stream",
          "name": "stdout",
          "text": [
            "Banana model => Accuracy: 100.00% & Validation Accuracy: 100.00%\n",
            "\n"
          ]
        }
      ]
    }
  ],
  "metadata": {
    "kernelspec": {
      "display_name": "Python 3",
      "language": "python",
      "name": "python3"
    },
    "language_info": {
      "codemirror_mode": {
        "name": "ipython",
        "version": 3
      },
      "file_extension": ".py",
      "mimetype": "text/x-python",
      "name": "python",
      "nbconvert_exporter": "python",
      "pygments_lexer": "ipython3",
      "version": "3.7.12"
    },
    "papermill": {
      "default_parameters": {},
      "duration": 116.031943,
      "end_time": "2022-05-18T04:53:09.501974",
      "environment_variables": {},
      "exception": null,
      "input_path": "__notebook__.ipynb",
      "output_path": "__notebook__.ipynb",
      "parameters": {},
      "start_time": "2022-05-18T04:51:13.470031",
      "version": "2.3.4"
    },
    "colab": {
      "name": "first-eleven-model.ipynb",
      "provenance": [],
      "collapsed_sections": []
    }
  },
  "nbformat": 4,
  "nbformat_minor": 5
}